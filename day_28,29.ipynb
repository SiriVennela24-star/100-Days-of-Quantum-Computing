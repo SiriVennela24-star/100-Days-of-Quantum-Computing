{
  "nbformat": 4,
  "nbformat_minor": 0,
  "metadata": {
    "colab": {
      "provenance": []
    },
    "kernelspec": {
      "name": "python3",
      "display_name": "Python 3"
    },
    "language_info": {
      "name": "python"
    }
  },
  "cells": [
    {
      "cell_type": "code",
      "execution_count": 1,
      "metadata": {
        "colab": {
          "base_uri": "https://localhost:8080/"
        },
        "id": "AuBH_9OGFXdJ",
        "outputId": "c829c71d-2b48-4af1-d62a-942ce07989a0"
      },
      "outputs": [
        {
          "output_type": "stream",
          "name": "stdout",
          "text": [
            "Collecting qiskit\n",
            "  Downloading qiskit-2.2.1-cp39-abi3-manylinux2014_x86_64.manylinux_2_17_x86_64.whl.metadata (12 kB)\n",
            "Collecting rustworkx>=0.15.0 (from qiskit)\n",
            "  Downloading rustworkx-0.17.1-cp39-abi3-manylinux_2_17_x86_64.manylinux2014_x86_64.whl.metadata (10 kB)\n",
            "Requirement already satisfied: numpy<3,>=1.17 in /usr/local/lib/python3.12/dist-packages (from qiskit) (2.0.2)\n",
            "Requirement already satisfied: scipy>=1.5 in /usr/local/lib/python3.12/dist-packages (from qiskit) (1.16.2)\n",
            "Requirement already satisfied: dill>=0.3 in /usr/local/lib/python3.12/dist-packages (from qiskit) (0.3.8)\n",
            "Collecting stevedore>=3.0.0 (from qiskit)\n",
            "  Downloading stevedore-5.5.0-py3-none-any.whl.metadata (2.2 kB)\n",
            "Requirement already satisfied: typing-extensions in /usr/local/lib/python3.12/dist-packages (from qiskit) (4.15.0)\n",
            "Downloading qiskit-2.2.1-cp39-abi3-manylinux2014_x86_64.manylinux_2_17_x86_64.whl (8.0 MB)\n",
            "\u001b[2K   \u001b[90m━━━━━━━━━━━━━━━━━━━━━━━━━━━━━━━━━━━━━━━━\u001b[0m \u001b[32m8.0/8.0 MB\u001b[0m \u001b[31m36.1 MB/s\u001b[0m eta \u001b[36m0:00:00\u001b[0m\n",
            "\u001b[?25hDownloading rustworkx-0.17.1-cp39-abi3-manylinux_2_17_x86_64.manylinux2014_x86_64.whl (2.2 MB)\n",
            "\u001b[2K   \u001b[90m━━━━━━━━━━━━━━━━━━━━━━━━━━━━━━━━━━━━━━━━\u001b[0m \u001b[32m2.2/2.2 MB\u001b[0m \u001b[31m27.3 MB/s\u001b[0m eta \u001b[36m0:00:00\u001b[0m\n",
            "\u001b[?25hDownloading stevedore-5.5.0-py3-none-any.whl (49 kB)\n",
            "\u001b[2K   \u001b[90m━━━━━━━━━━━━━━━━━━━━━━━━━━━━━━━━━━━━━━━━\u001b[0m \u001b[32m49.5/49.5 kB\u001b[0m \u001b[31m1.8 MB/s\u001b[0m eta \u001b[36m0:00:00\u001b[0m\n",
            "\u001b[?25hInstalling collected packages: stevedore, rustworkx, qiskit\n",
            "Successfully installed qiskit-2.2.1 rustworkx-0.17.1 stevedore-5.5.0\n",
            "Collecting qiskit-aer\n",
            "  Downloading qiskit_aer-0.17.2-cp312-cp312-manylinux_2_17_x86_64.manylinux2014_x86_64.whl.metadata (8.3 kB)\n",
            "Requirement already satisfied: qiskit>=1.1.0 in /usr/local/lib/python3.12/dist-packages (from qiskit-aer) (2.2.1)\n",
            "Requirement already satisfied: numpy>=1.16.3 in /usr/local/lib/python3.12/dist-packages (from qiskit-aer) (2.0.2)\n",
            "Requirement already satisfied: scipy>=1.0 in /usr/local/lib/python3.12/dist-packages (from qiskit-aer) (1.16.2)\n",
            "Requirement already satisfied: psutil>=5 in /usr/local/lib/python3.12/dist-packages (from qiskit-aer) (5.9.5)\n",
            "Requirement already satisfied: python-dateutil>=2.8.0 in /usr/local/lib/python3.12/dist-packages (from qiskit-aer) (2.9.0.post0)\n",
            "Requirement already satisfied: six>=1.5 in /usr/local/lib/python3.12/dist-packages (from python-dateutil>=2.8.0->qiskit-aer) (1.17.0)\n",
            "Requirement already satisfied: rustworkx>=0.15.0 in /usr/local/lib/python3.12/dist-packages (from qiskit>=1.1.0->qiskit-aer) (0.17.1)\n",
            "Requirement already satisfied: dill>=0.3 in /usr/local/lib/python3.12/dist-packages (from qiskit>=1.1.0->qiskit-aer) (0.3.8)\n",
            "Requirement already satisfied: stevedore>=3.0.0 in /usr/local/lib/python3.12/dist-packages (from qiskit>=1.1.0->qiskit-aer) (5.5.0)\n",
            "Requirement already satisfied: typing-extensions in /usr/local/lib/python3.12/dist-packages (from qiskit>=1.1.0->qiskit-aer) (4.15.0)\n",
            "Downloading qiskit_aer-0.17.2-cp312-cp312-manylinux_2_17_x86_64.manylinux2014_x86_64.whl (12.4 MB)\n",
            "\u001b[2K   \u001b[90m━━━━━━━━━━━━━━━━━━━━━━━━━━━━━━━━━━━━━━━━\u001b[0m \u001b[32m12.4/12.4 MB\u001b[0m \u001b[31m70.0 MB/s\u001b[0m eta \u001b[36m0:00:00\u001b[0m\n",
            "\u001b[?25hInstalling collected packages: qiskit-aer\n",
            "Successfully installed qiskit-aer-0.17.2\n"
          ]
        }
      ],
      "source": [
        "!pip install qiskit\n",
        "!pip install qiskit-aer"
      ]
    },
    {
      "cell_type": "code",
      "source": [
        "from qiskit import QuantumCircuit\n",
        "from qiskit_aer import Aer\n",
        "qc = QuantumCircuit(2)\n",
        "qc.h(0)\n",
        "qc.cx(0,1)\n",
        "qc.measure_all()\n",
        "backend = Aer.get_backend('aer_simulator')\n",
        "result = backend.run(qc, shots=1024).result() # Corrected execution method\n",
        "print(result.get_counts())"
      ],
      "metadata": {
        "colab": {
          "base_uri": "https://localhost:8080/"
        },
        "id": "NnXjwHqtFlSU",
        "outputId": "2f806f87-49ba-453c-f430-910c314bfc3d"
      },
      "execution_count": 2,
      "outputs": [
        {
          "output_type": "stream",
          "name": "stdout",
          "text": [
            "{'11': 488, '00': 536}\n"
          ]
        }
      ]
    },
    {
      "cell_type": "code",
      "source": [
        "from qiskit.circuit.library import QFT\n",
        "from qiskit.circuit import QuantumCircuit, QuantumRegister, ClassicalRegister\n",
        "from qiskit.visualization import plot_histogram\n",
        "import matplotlib.pyplot as plt\n",
        "\n",
        "\n",
        "# Example: 3-qubit QAE prototype\n",
        "qreg = QuantumRegister(3)\n",
        "creg = ClassicalRegister(3)\n",
        "qc_qae = QuantumCircuit(qreg, creg)\n",
        "\n",
        "# State preparation\n",
        "qc_qae.h(qreg[0])\n",
        "qc_qae.cx(qreg[0], qreg[1])\n",
        "qc_qae.cx(qreg[1], qreg[2])\n",
        "\n",
        "# Optional: Add QFT or Grover operator here for QAE\n",
        "\n",
        "qc_qae.measure_all()\n",
        "\n",
        "backend = Aer.get_backend('aer_simulator')\n",
        "result = backend.run(qc_qae, shots=1024).result()\n",
        "counts = result.get_counts()\n",
        "print(counts)\n",
        "\n",
        "plot_histogram(counts)\n",
        "plt.show()"
      ],
      "metadata": {
        "colab": {
          "base_uri": "https://localhost:8080/"
        },
        "id": "6um39cqJGtuO",
        "outputId": "208aa0c4-86b8-405c-c336-556d4a7ec400"
      },
      "execution_count": 4,
      "outputs": [
        {
          "output_type": "stream",
          "name": "stdout",
          "text": [
            "{'111 000': 530, '000 000': 494}\n"
          ]
        }
      ]
    },
    {
      "cell_type": "code",
      "source": [
        "!pip install pylatexenc\n",
        "from qiskit import QuantumCircuit\n",
        "from qiskit_aer import Aer\n",
        "from qiskit.visualization import plot_bloch_multivector, plot_state_city\n",
        "from qiskit.quantum_info import Statevector\n",
        "import matplotlib.pyplot as plt\n",
        "\n",
        "# ---------------------------\n",
        "# 1. Define QAE prototype circuit\n",
        "# ---------------------------\n",
        "qc = QuantumCircuit(3)  # 3 qubits: 2 for phase, 1 for amplitude\n",
        "\n",
        "# State preparation (example)\n",
        "qc.h(0)\n",
        "qc.h(1)\n",
        "qc.cx(0,2)\n",
        "qc.cx(1,2)\n",
        "\n",
        "# Optional: Grover-like operator for amplitude amplification\n",
        "qc.z(2)  # simple phase flip\n",
        "\n",
        "# ---------------------------\n",
        "# 2. Visualize circuit\n",
        "# ---------------------------\n",
        "qc.draw(output='mpl')\n",
        "plt.show()\n",
        "\n",
        "# ---------------------------\n",
        "# 3. Get statevector for visuals\n",
        "# ---------------------------\n",
        "backend = Aer.get_backend('aer_simulator')\n",
        "state = Statevector.from_instruction(qc)\n",
        "\n",
        "# ---------------------------\n",
        "# 4. Prototype visuals\n",
        "# ---------------------------\n",
        "\n",
        "# Bloch spheres for all qubits\n",
        "plot_bloch_multivector(state)\n",
        "plt.show()\n",
        "qc.draw('mpl')\n",
        "\n",
        "# 3D City plot (amplitude & phase for each basis state)\n",
        "plot_state_city(state)\n",
        "plt.show()\n",
        "qc.draw('mpl')"
      ],
      "metadata": {
        "colab": {
          "base_uri": "https://localhost:8080/",
          "height": 272
        },
        "id": "zy7knqUGHP9f",
        "outputId": "9d73813c-2211-4645-f048-776aa3b469e7"
      },
      "execution_count": 3,
      "outputs": [
        {
          "output_type": "stream",
          "name": "stdout",
          "text": [
            "Requirement already satisfied: pylatexenc in /usr/local/lib/python3.12/dist-packages (2.10)\n"
          ]
        },
        {
          "output_type": "execute_result",
          "data": {
            "text/plain": [
              "<Figure size 454.719x284.278 with 1 Axes>"
            ],
            "image/png": "[encoded data removed]"
          },
          "metadata": {},
          "execution_count": 3
        }
      ]
    },
    {
      "cell_type": "code",
      "source": [
        "!pip install pylatexenc\n",
        "from qiskit import QuantumCircuit\n",
        "from qiskit_aer import Aer\n",
        "from qiskit.visualization import plot_bloch_multivector, plot_state_city\n",
        "from qiskit.quantum_info import Statevector\n",
        "import matplotlib.pyplot as plt\n",
        "\n",
        "# ---------------------------\n",
        "# Parameters\n",
        "# ---------------------------\n",
        "num_phase_qubits = 3    # Number of qubits for phase estimation\n",
        "num_target_qubits = 1   # Number of amplitude qubits\n",
        "num_grover_iterations = 2\n",
        "\n",
        "# ---------------------------\n",
        "# 1. Create Quantum Circuit\n",
        "# ---------------------------\n",
        "total_qubits = num_phase_qubits + num_target_qubits\n",
        "qc = QuantumCircuit(total_qubits)\n",
        "\n",
        "# State preparation (Hadamards on phase qubits)\n",
        "for i in range(num_phase_qubits):\n",
        "    qc.h(i)\n",
        "\n",
        "# Entangle phase qubits with amplitude qubit\n",
        "for i in range(num_phase_qubits):\n",
        "    qc.cx(i, total_qubits-1)\n",
        "\n",
        "# Prototype Grover iterations\n",
        "for _ in range(num_grover_iterations):\n",
        "    qc.z(total_qubits-1)  # Phase flip on amplitude qubit\n",
        "    for i in range(num_phase_qubits):\n",
        "        qc.cx(i, total_qubits-1)\n",
        "\n",
        "# ---------------------------\n",
        "# 2. Visualize Circuit\n",
        "# ---------------------------\n",
        "qc.draw(output='mpl')\n",
        "plt.show()\n",
        "\n",
        "# ---------------------------\n",
        "# 3. Get Statevector\n",
        "# ---------------------------\n",
        "backend = Aer.get_backend('aer_simulator')\n",
        "state = Statevector.from_instruction(qc)\n",
        "\n",
        "# ---------------------------\n",
        "# 4. Prototype Visuals\n",
        "# ---------------------------\n",
        "\n",
        "# Bloch spheres for all qubits\n",
        "plot_bloch_multivector(state)\n",
        "plt.show()\n",
        "\n",
        "# 3D State City plot (amplitudes & phases)\n",
        "plot_state_city(state)\n",
        "plt.show()\n",
        "qc.draw('mpl')\n"
      ],
      "metadata": {
        "colab": {
          "base_uri": "https://localhost:8080/",
          "height": 337
        },
        "id": "gC1u2Py_NfUJ",
        "outputId": "5d41fab9-1755-4164-c75e-5c716449ab77"
      },
      "execution_count": 5,
      "outputs": [
        {
          "output_type": "stream",
          "name": "stdout",
          "text": [
            "Requirement already satisfied: pylatexenc in /usr/local/lib/python3.12/dist-packages (2.10)\n"
          ]
        },
        {
          "output_type": "execute_result",
          "data": {
            "text/plain": [
              "<Figure size 1123.61x367.889 with 1 Axes>"
            ],
            "image/png": "[encoded data removed]"
          },
          "metadata": {},
          "execution_count": 5
        }
      ]
    },
    {
      "cell_type": "code",
      "metadata": {
        "colab": {
          "base_uri": "https://localhost:8080/"
        },
        "id": "196726dd",
        "outputId": "2a5b5cd2-c26f-44d1-d897-1b1cba4dbec2"
      },
      "source": [
        "!pip install pylatexenc"
      ],
      "execution_count": 7,
      "outputs": [
        {
          "output_type": "stream",
          "name": "stdout",
          "text": [
            "Requirement already satisfied: pylatexenc in /usr/local/lib/python3.12/dist-packages (2.10)\n"
          ]
        }
      ]
    },
    {
      "cell_type": "code",
      "source": [
        "#Quantum Random number Generator\n",
        "from qiskit import QuantumCircuit\n",
        "from qiskit_aer import Aer\n",
        "qc = QuantumCircuit(1)\n",
        "qc.h(0)\n",
        "qc.measure_all()\n",
        "backend = Aer.get_backend('aer_simulator')\n",
        "result = backend.run(qc, shots=10).result()\n",
        "print(result.get_counts())"
      ],
      "metadata": {
        "colab": {
          "base_uri": "https://localhost:8080/"
        },
        "id": "-hl8vPVWPuZK",
        "outputId": "9acee905-475b-43a7-fd77-71916cb8cecc"
      },
      "execution_count": 7,
      "outputs": [
        {
          "output_type": "stream",
          "name": "stdout",
          "text": [
            "{'0': 5, '1': 5}\n"
          ]
        }
      ]
    },
    {
      "cell_type": "code",
      "source": [
        "# Install Qiskit if needed:\n",
        "# !pip install qiskit\n",
        "\n",
        "from math import ceil\n",
        "from qiskit import QuantumCircuit\n",
        "from qiskit_aer import Aer\n",
        "from qiskit import transpile\n",
        "import numpy as np\n",
        "\n",
        "def qrng_simulator(n_bits: int, max_qubits_per_run: int = 20):\n",
        "    \"\"\"\n",
        "    Generate n_bits of random bits using Qiskit Aer simulator.\n",
        "    - n_bits: total number of random bits requested.\n",
        "    - max_qubits_per_run: number of qubits to use per circuit (keeps circuits reasonable).\n",
        "    Returns: string of '0'/'1' of length n_bits.\n",
        "    \"\"\"\n",
        "    if n_bits <= 0:\n",
        "        return \"\"\n",
        "\n",
        "    # choose how many qubits to use per circuit run\n",
        "    qubits = min(max_qubits_per_run, n_bits)\n",
        "    shots = ceil(n_bits / qubits)  # number of repeated runs to reach requested bits\n",
        "\n",
        "    # Build circuit: apply H to each qubit, measure\n",
        "    qc = QuantumCircuit(qubits, qubits)\n",
        "    qc.h(range(qubits))\n",
        "    qc.measure(range(qubits), range(qubits))\n",
        "\n",
        "    backend = Aer.get_backend(\"aer_simulator\")\n",
        "    # transpile for Aer\n",
        "    qc_t = transpile(qc, backend)\n",
        "    job = backend.run(qc_t, shots=shots)\n",
        "    result = job.result()\n",
        "    counts = result.get_counts()\n",
        "\n",
        "    # Expand counts into a long bitstring (order: qiskit returns bitstrings MSB..LSB)\n",
        "    bits = []\n",
        "    for bitstring, cnt in counts.items():\n",
        "        # Qiskit's bitstring ordering is classical bits as a string like '010'\n",
        "        # We'll repeat each outcome cnt times\n",
        "        bits.extend([bitstring.replace(' ', '')] * cnt)\n",
        "\n",
        "    # The order of items in counts is arbitrary; expand into individual outcome strings\n",
        "    # Now create a long concatenated bitstring by taking results in sequence from the memory\n",
        "    # For reproducible ordering we instead fetch memory if available:\n",
        "    try:\n",
        "        memory = result.get_memory(qc_t)  # list of strings length = shots\n",
        "        # concatenate memory in the order returned\n",
        "        concat = \"\".join(memory)\n",
        "    except Exception:\n",
        "        # fallback: shuffle the expanded list and concatenate\n",
        "        np.random.shuffle(bits)\n",
        "        concat = \"\".join(bits)\n",
        "\n",
        "    # The memory concatenates each run's measured qubits; if qubits< n_bits we slice.\n",
        "    # If memory string order is qubit_(n-1)...qubit_0 (MSB..LSB), we keep that standard order.\n",
        "    final_bits = concat[:n_bits]\n",
        "    return final_bits\n",
        "\n",
        "def qrng_bytes(n_bytes: int, max_qubits_per_run: int = 20):\n",
        "    \"\"\"Return n_bytes of random data as bytes (Python bytes object).\"\"\"\n",
        "    n_bits = n_bytes * 8\n",
        "    bitstr = qrng_simulator(n_bits, max_qubits_per_run=max_qubits_per_run)\n",
        "    # pad if necessary (shouldn't be needed)\n",
        "    bitstr = bitstr.ljust(n_bits, '0')\n",
        "    out = int(bitstr, 2).to_bytes(n_bytes, byteorder='big')\n",
        "    return out\n",
        "\n",
        "def qrng_int(n_bits: int, max_qubits_per_run: int = 20):\n",
        "    \"\"\"Return an integer uniformly random in range [0, 2^n_bits - 1].\"\"\"\n",
        "    bitstr = qrng_simulator(n_bits, max_qubits_per_run=max_qubits_per_run)\n",
        "    return int(bitstr, 2)\n",
        "\n",
        "# -------------------------\n",
        "# Example usage\n",
        "# -------------------------\n",
        "if __name__ == \"__main__\":\n",
        "    # Generate 128 random bits (as a bitstring)\n",
        "    bits128 = qrng_simulator(128)\n",
        "    print(\"128-bit string:\", bits128)\n",
        "\n",
        "    # Generate 16 random bytes\n",
        "    b = qrng_bytes(16)\n",
        "    print(\"16 random bytes (hex):\", b.hex())\n",
        "\n",
        "    # Generate a 32-bit random integer\n",
        "    r = qrng_int(32)\n",
        "    print(\"32-bit int:\", r)\n"
      ],
      "metadata": {
        "colab": {
          "base_uri": "https://localhost:8080/"
        },
        "id": "deGmXucBQxqQ",
        "outputId": "b747d02f-b6ea-457d-d147-a5e3cca23e4b"
      },
      "execution_count": 8,
      "outputs": [
        {
          "output_type": "stream",
          "name": "stdout",
          "text": [
            "128-bit string: 00011101101100111000101100010011101010100101100110000111010100100111001001100011010001111101010011001101101000011100000000101100\n",
            "16 random bytes (hex): f4fbdef236fdd713da158bc625589028\n",
            "32-bit int: 664648513\n"
          ]
        }
      ]
    },
    {
      "cell_type": "code",
      "metadata": {
        "colab": {
          "base_uri": "https://localhost:8080/"
        },
        "id": "23d44a75",
        "outputId": "484f89bb-76d8-46b3-e3b1-88b35b84cf9c"
      },
      "source": [
        "!pip install --upgrade qiskit qiskit-ibm-provider"
      ],
      "execution_count": 6,
      "outputs": [
        {
          "output_type": "stream",
          "name": "stdout",
          "text": [
            "Requirement already satisfied: qiskit in /usr/local/lib/python3.12/dist-packages (2.2.1)\n",
            "Requirement already satisfied: qiskit-ibm-provider in /usr/local/lib/python3.12/dist-packages (0.11.0)\n",
            "Requirement already satisfied: rustworkx>=0.15.0 in /usr/local/lib/python3.12/dist-packages (from qiskit) (0.17.1)\n",
            "Requirement already satisfied: numpy<3,>=1.17 in /usr/local/lib/python3.12/dist-packages (from qiskit) (2.0.2)\n",
            "Requirement already satisfied: scipy>=1.5 in /usr/local/lib/python3.12/dist-packages (from qiskit) (1.16.2)\n",
            "Requirement already satisfied: dill>=0.3 in /usr/local/lib/python3.12/dist-packages (from qiskit) (0.3.8)\n",
            "Requirement already satisfied: stevedore>=3.0.0 in /usr/local/lib/python3.12/dist-packages (from qiskit) (5.5.0)\n",
            "Requirement already satisfied: typing-extensions in /usr/local/lib/python3.12/dist-packages (from qiskit) (4.15.0)\n",
            "Requirement already satisfied: requests>=2.19 in /usr/local/lib/python3.12/dist-packages (from qiskit-ibm-provider) (2.32.4)\n",
            "Requirement already satisfied: requests-ntlm>=1.1.0 in /usr/local/lib/python3.12/dist-packages (from qiskit-ibm-provider) (1.3.0)\n",
            "Requirement already satisfied: urllib3>=1.21.1 in /usr/local/lib/python3.12/dist-packages (from qiskit-ibm-provider) (2.5.0)\n",
            "Requirement already satisfied: python-dateutil>=2.8.0 in /usr/local/lib/python3.12/dist-packages (from qiskit-ibm-provider) (2.9.0.post0)\n",
            "Requirement already satisfied: websocket-client>=1.5.1 in /usr/local/lib/python3.12/dist-packages (from qiskit-ibm-provider) (1.9.0)\n",
            "Requirement already satisfied: websockets>=10.0 in /usr/local/lib/python3.12/dist-packages (from qiskit-ibm-provider) (15.0.1)\n",
            "Requirement already satisfied: six>=1.5 in /usr/local/lib/python3.12/dist-packages (from python-dateutil>=2.8.0->qiskit-ibm-provider) (1.17.0)\n",
            "Requirement already satisfied: charset_normalizer<4,>=2 in /usr/local/lib/python3.12/dist-packages (from requests>=2.19->qiskit-ibm-provider) (3.4.4)\n",
            "Requirement already satisfied: idna<4,>=2.5 in /usr/local/lib/python3.12/dist-packages (from requests>=2.19->qiskit-ibm-provider) (3.11)\n",
            "Requirement already satisfied: certifi>=2017.4.17 in /usr/local/lib/python3.12/dist-packages (from requests>=2.19->qiskit-ibm-provider) (2025.10.5)\n",
            "Requirement already satisfied: cryptography>=1.3 in /usr/local/lib/python3.12/dist-packages (from requests-ntlm>=1.1.0->qiskit-ibm-provider) (43.0.3)\n",
            "Requirement already satisfied: pyspnego>=0.4.0 in /usr/local/lib/python3.12/dist-packages (from requests-ntlm>=1.1.0->qiskit-ibm-provider) (0.12.0)\n",
            "Requirement already satisfied: cffi>=1.12 in /usr/local/lib/python3.12/dist-packages (from cryptography>=1.3->requests-ntlm>=1.1.0->qiskit-ibm-provider) (2.0.0)\n",
            "Requirement already satisfied: pycparser in /usr/local/lib/python3.12/dist-packages (from cffi>=1.12->cryptography>=1.3->requests-ntlm>=1.1.0->qiskit-ibm-provider) (2.23)\n"
          ]
        }
      ]
    },
    {
      "cell_type": "code",
      "metadata": {
        "colab": {
          "base_uri": "https://localhost:8080/"
        },
        "id": "8c5ea609",
        "outputId": "a253d580-c141-401a-8bce-ea677433b541"
      },
      "source": [
        "!pip install qiskit-ibm-provider"
      ],
      "execution_count": 10,
      "outputs": [
        {
          "output_type": "stream",
          "name": "stdout",
          "text": [
            "Collecting qiskit-ibm-provider\n",
            "  Downloading qiskit_ibm_provider-0.11.0-py3-none-any.whl.metadata (7.6 kB)\n",
            "Requirement already satisfied: qiskit>=0.45.0 in /usr/local/lib/python3.12/dist-packages (from qiskit-ibm-provider) (2.2.1)\n",
            "Requirement already satisfied: requests>=2.19 in /usr/local/lib/python3.12/dist-packages (from qiskit-ibm-provider) (2.32.4)\n",
            "Collecting requests-ntlm>=1.1.0 (from qiskit-ibm-provider)\n",
            "  Downloading requests_ntlm-1.3.0-py3-none-any.whl.metadata (2.4 kB)\n",
            "Requirement already satisfied: numpy>=1.13 in /usr/local/lib/python3.12/dist-packages (from qiskit-ibm-provider) (2.0.2)\n",
            "Requirement already satisfied: urllib3>=1.21.1 in /usr/local/lib/python3.12/dist-packages (from qiskit-ibm-provider) (2.5.0)\n",
            "Requirement already satisfied: python-dateutil>=2.8.0 in /usr/local/lib/python3.12/dist-packages (from qiskit-ibm-provider) (2.9.0.post0)\n",
            "Requirement already satisfied: websocket-client>=1.5.1 in /usr/local/lib/python3.12/dist-packages (from qiskit-ibm-provider) (1.9.0)\n",
            "Requirement already satisfied: websockets>=10.0 in /usr/local/lib/python3.12/dist-packages (from qiskit-ibm-provider) (15.0.1)\n",
            "Requirement already satisfied: typing-extensions>=4.3 in /usr/local/lib/python3.12/dist-packages (from qiskit-ibm-provider) (4.15.0)\n",
            "Requirement already satisfied: six>=1.5 in /usr/local/lib/python3.12/dist-packages (from python-dateutil>=2.8.0->qiskit-ibm-provider) (1.17.0)\n",
            "Requirement already satisfied: rustworkx>=0.15.0 in /usr/local/lib/python3.12/dist-packages (from qiskit>=0.45.0->qiskit-ibm-provider) (0.17.1)\n",
            "Requirement already satisfied: scipy>=1.5 in /usr/local/lib/python3.12/dist-packages (from qiskit>=0.45.0->qiskit-ibm-provider) (1.16.2)\n",
            "Requirement already satisfied: dill>=0.3 in /usr/local/lib/python3.12/dist-packages (from qiskit>=0.45.0->qiskit-ibm-provider) (0.3.8)\n",
            "Requirement already satisfied: stevedore>=3.0.0 in /usr/local/lib/python3.12/dist-packages (from qiskit>=0.45.0->qiskit-ibm-provider) (5.5.0)\n",
            "Requirement already satisfied: charset_normalizer<4,>=2 in /usr/local/lib/python3.12/dist-packages (from requests>=2.19->qiskit-ibm-provider) (3.4.4)\n",
            "Requirement already satisfied: idna<4,>=2.5 in /usr/local/lib/python3.12/dist-packages (from requests>=2.19->qiskit-ibm-provider) (3.11)\n",
            "Requirement already satisfied: certifi>=2017.4.17 in /usr/local/lib/python3.12/dist-packages (from requests>=2.19->qiskit-ibm-provider) (2025.10.5)\n",
            "Requirement already satisfied: cryptography>=1.3 in /usr/local/lib/python3.12/dist-packages (from requests-ntlm>=1.1.0->qiskit-ibm-provider) (43.0.3)\n",
            "Collecting pyspnego>=0.4.0 (from requests-ntlm>=1.1.0->qiskit-ibm-provider)\n",
            "  Downloading pyspnego-0.12.0-py3-none-any.whl.metadata (4.1 kB)\n",
            "Requirement already satisfied: cffi>=1.12 in /usr/local/lib/python3.12/dist-packages (from cryptography>=1.3->requests-ntlm>=1.1.0->qiskit-ibm-provider) (2.0.0)\n",
            "Requirement already satisfied: pycparser in /usr/local/lib/python3.12/dist-packages (from cffi>=1.12->cryptography>=1.3->requests-ntlm>=1.1.0->qiskit-ibm-provider) (2.23)\n",
            "Downloading qiskit_ibm_provider-0.11.0-py3-none-any.whl (249 kB)\n",
            "\u001b[2K   \u001b[90m━━━━━━━━━━━━━━━━━━━━━━━━━━━━━━━━━━━━━━━━\u001b[0m \u001b[32m249.9/249.9 kB\u001b[0m \u001b[31m5.2 MB/s\u001b[0m eta \u001b[36m0:00:00\u001b[0m\n",
            "\u001b[?25hDownloading requests_ntlm-1.3.0-py3-none-any.whl (6.6 kB)\n",
            "Downloading pyspnego-0.12.0-py3-none-any.whl (130 kB)\n",
            "\u001b[2K   \u001b[90m━━━━━━━━━━━━━━━━━━━━━━━━━━━━━━━━━━━━━━━━\u001b[0m \u001b[32m130.2/130.2 kB\u001b[0m \u001b[31m7.6 MB/s\u001b[0m eta \u001b[36m0:00:00\u001b[0m\n",
            "\u001b[?25hInstalling collected packages: pyspnego, requests-ntlm, qiskit-ibm-provider\n",
            "Successfully installed pyspnego-0.12.0 qiskit-ibm-provider-0.11.0 requests-ntlm-1.3.0\n"
          ]
        }
      ]
    },
    {
      "cell_type": "code",
      "source": [
        "# ============================================================\n",
        "# 🧠 Quantum Random Number Generator – Live Version (Qiskit)\n",
        "# Works in Google Colab | Generates random numbers continuously\n",
        "# ============================================================\n",
        "\n",
        "!pip install -q qiskit qiskit-aer matplotlib\n",
        "\n",
        "import time\n",
        "import random\n",
        "import numpy as np\n",
        "from IPython.display import clear_output\n",
        "from qiskit import QuantumCircuit\n",
        "from qiskit_aer import AerSimulator\n",
        "from qiskit.visualization import plot_histogram\n",
        "import matplotlib.pyplot as plt\n",
        "\n",
        "# --- CONFIGURATION ---\n",
        "NUM_QUBITS = 8       # each quantum measurement gives 8 random bits\n",
        "SHOTS = 256          # number of samples per batch\n",
        "LIVE_UPDATES = 10    # number of live rounds to display\n",
        "\n",
        "# --- INITIALIZE BACKEND ---\n",
        "sim = AerSimulator()\n",
        "\n",
        "def generate_qrng_bits(num_qubits=NUM_QUBITS, shots=SHOTS):\n",
        "    \"\"\"Generates quantum random bitstrings and returns a list of integers.\"\"\"\n",
        "    qc = QuantumCircuit(num_qubits, num_qubits)\n",
        "    qc.h(range(num_qubits))              # put all qubits into superposition\n",
        "    qc.measure(range(num_qubits), range(num_qubits))\n",
        "    result = sim.run(qc, shots=shots).result()\n",
        "    counts = result.get_counts()\n",
        "\n",
        "    # Expand counts into raw random bitstrings\n",
        "    bitstrings = []\n",
        "    for bitstring, freq in counts.items():\n",
        "        bitstrings.extend([bitstring] * freq)\n",
        "\n",
        "    # Convert bitstrings to integers\n",
        "    random_ints = [int(bits, 2) for bits in bitstrings]\n",
        "    return bitstrings, random_ints, counts\n",
        "\n",
        "# --- LIVE GENERATION LOOP ---\n",
        "all_random_numbers = []\n",
        "\n",
        "for round_num in range(LIVE_UPDATES):\n",
        "    clear_output(wait=True)\n",
        "    bitstrings, random_ints, counts = generate_qrng_bits()\n",
        "    all_random_numbers.extend(random_ints)\n",
        "\n",
        "    print(f\"🔄 Round {round_num+1}/{LIVE_UPDATES}\")\n",
        "    print(f\"Generated {len(random_ints)} quantum random numbers.\")\n",
        "    print(f\"Sample bitstrings:\")\n",
        "    for i in range(5):\n",
        "        print(f\"  {i+1}. {bitstrings[i]} → {random_ints[i]}\")\n",
        "\n",
        "    # Show live histogram\n",
        "    plt.figure(figsize=(8,4))\n",
        "    plot_histogram(counts)\n",
        "    plt.title(f\"Quantum Random Distribution (Round {round_num+1})\")\n",
        "    plt.show()\n",
        "\n",
        "    # Wait briefly before generating the next batch\n",
        "    time.sleep(2)\n",
        "\n",
        "# --- FINAL SUMMARY ---\n",
        "clear_output(wait=True)\n",
        "print(\"✅ Live QRNG session completed!\\n\")\n",
        "print(f\"Total quantum random numbers generated: {len(all_random_numbers)}\")\n",
        "print(\"Here are 10 random samples:\")\n",
        "print(random.sample(all_random_numbers, 10))\n",
        "\n",
        "# Optional: compute simple randomness stats\n",
        "mean_val = np.mean(all_random_numbers)\n",
        "std_val = np.std(all_random_numbers)\n",
        "print(f\"\\n📊 Randomness stats — Mean: {mean_val:.2f}, Std Dev: {std_val:.2f}\")\n"
      ],
      "metadata": {
        "colab": {
          "base_uri": "https://localhost:8080/",
          "height": 723
        },
        "id": "c3XByA2tWn-I",
        "outputId": "be71e49e-3dfe-41ea-ae32-d8cfed1c145c"
      },
      "execution_count": 15,
      "outputs": [
        {
          "output_type": "stream",
          "name": "stdout",
          "text": [
            "🔄 Round 9/10\n",
            "Generated 256 quantum random numbers.\n",
            "Sample bitstrings:\n",
            "  1. 11001100 → 204\n",
            "  2. 01110101 → 117\n",
            "  3. 01110101 → 117\n",
            "  4. 01000100 → 68\n",
            "  5. 01111010 → 122\n"
          ]
        },
        {
          "output_type": "display_data",
          "data": {
            "text/plain": [
              "<Figure size 800x400 with 1 Axes>"
            ],
            "image/png": "[encoded data removed]"
          },
          "metadata": {}
        },
        {
          "output_type": "error",
          "ename": "KeyboardInterrupt",
          "evalue": "",
          "traceback": [
            "\u001b[0;31m---------------------------------------------------------------------------\u001b[0m",
            "\u001b[0;31mKeyboardInterrupt\u001b[0m                         Traceback (most recent call last)",
            "\u001b[0;32m/tmp/ipython-input-2184960362.py\u001b[0m in \u001b[0;36m<cell line: 0>\u001b[0;34m()\u001b[0m\n\u001b[1;32m     61\u001b[0m \u001b[0;34m\u001b[0m\u001b[0m\n\u001b[1;32m     62\u001b[0m     \u001b[0;31m# Wait briefly before generating the next batch\u001b[0m\u001b[0;34m\u001b[0m\u001b[0;34m\u001b[0m\u001b[0m\n\u001b[0;32m---> 63\u001b[0;31m     \u001b[0mtime\u001b[0m\u001b[0;34m.\u001b[0m\u001b[0msleep\u001b[0m\u001b[0;34m(\u001b[0m\u001b[0;36m2\u001b[0m\u001b[0;34m)\u001b[0m\u001b[0;34m\u001b[0m\u001b[0;34m\u001b[0m\u001b[0m\n\u001b[0m\u001b[1;32m     64\u001b[0m \u001b[0;34m\u001b[0m\u001b[0m\n\u001b[1;32m     65\u001b[0m \u001b[0;31m# --- FINAL SUMMARY ---\u001b[0m\u001b[0;34m\u001b[0m\u001b[0;34m\u001b[0m\u001b[0m\n",
            "\u001b[0;31mKeyboardInterrupt\u001b[0m: "
          ]
        }
      ]
    },
    {
      "cell_type": "code",
      "source": [
        "# ============================================================\n",
        "# 🧠 Quantum Random Number Generator – Live Version (Qiskit)\n",
        "# Works 100% in Google Colab with proper live plotting\n",
        "# Perfect code without graph\n",
        "\n",
        "!pip install -q qiskit qiskit-aer matplotlib\n",
        "\n",
        "import time\n",
        "import random\n",
        "import numpy as np\n",
        "from IPython.display import clear_output, display\n",
        "from qiskit import QuantumCircuit\n",
        "from qiskit_aer import AerSimulator\n",
        "from qiskit.visualization import plot_histogram\n",
        "import matplotlib.pyplot as plt\n",
        "\n",
        "# --- CONFIGURATION ---\n",
        "NUM_QUBITS = 8       # bits per measurement\n",
        "SHOTS = 256          # samples per round\n",
        "LIVE_UPDATES = 10    # number of live updates\n",
        "\n",
        "# --- INITIALIZE BACKEND ---\n",
        "sim = AerSimulator()\n",
        "\n",
        "def generate_qrng_bits(num_qubits=NUM_QUBITS, shots=SHOTS):\n",
        "    \"\"\"Generate quantum random bitstrings and integers.\"\"\"\n",
        "    qc = QuantumCircuit(num_qubits, num_qubits)\n",
        "    qc.h(range(num_qubits))\n",
        "    qc.measure(range(num_qubits), range(num_qubits))\n",
        "\n",
        "    result = sim.run(qc, shots=shots).result()\n",
        "    counts = result.get_counts()\n",
        "\n",
        "    bitstrings = []\n",
        "    for bits, freq in counts.items():\n",
        "        bitstrings.extend([bits] * freq)\n",
        "\n",
        "    random_ints = [int(b, 2) for b in bitstrings]\n",
        "    return bitstrings, random_ints, counts\n",
        "\n",
        "# --- LIVE STREAM LOOP ---\n",
        "all_random_numbers = []\n",
        "\n",
        "for round_num in range(LIVE_UPDATES):\n",
        "    clear_output(wait=True)\n",
        "    bitstrings, random_ints, counts = generate_qrng_bits()\n",
        "    all_random_numbers.extend(random_ints)\n",
        "\n",
        "    print(f\"🔄 Round {round_num+1}/{LIVE_UPDATES}\")\n",
        "    print(f\"Generated {len(random_ints)} random numbers (8-bit).\")\n",
        "    print(\"\\n🧩 Sample random values:\")\n",
        "    for i in range(5):\n",
        "        print(f\"  {i+1}. {bitstrings[i]} → {random_ints[i]}\")\n",
        "\n",
        "    # --- FIXED PLOTTING ---\n",
        "    plt.figure(figsize=(8,4))\n",
        "    hist = plot_histogram(counts, title=f\"Quantum Random Distribution (Round {round_num+1})\")\n",
        "    plt.title(f\"Quantum Random Distribution (Round {round_num+1})\", fontsize=13)\n",
        "    plt.xlabel(\"Bitstring outcome\")\n",
        "    plt.ylabel(\"Frequency\")\n",
        "    plt.grid(True, linestyle='--', alpha=0.5)\n",
        "    display(plt.gcf())\n",
        "    plt.close()\n",
        "\n",
        "    time.sleep(2)\n",
        "\n",
        "# --- SUMMARY ---\n",
        "clear_output(wait=True)\n",
        "print(\"✅ Live QRNG session completed!\\n\")\n",
        "print(f\"Total quantum random numbers generated: {len(all_random_numbers)}\")\n",
        "print(\"Here are 10 random samples:\")\n",
        "print(random.sample(all_random_numbers, 10))\n",
        "\n",
        "mean_val = np.mean(all_random_numbers)\n",
        "std_val = np.std(all_random_numbers)\n",
        "print(f\"\\n📊 Randomness stats — Mean: {mean_val:.2f}, Std Dev: {std_val:.2f}\")\n",
        "\n"
      ],
      "metadata": {
        "colab": {
          "base_uri": "https://localhost:8080/",
          "height": 566
        },
        "id": "YFTnv_UhXCLv",
        "outputId": "e776c1f7-27c1-4b75-9a40-8a56fd0b04fd"
      },
      "execution_count": 16,
      "outputs": [
        {
          "output_type": "stream",
          "name": "stdout",
          "text": [
            "✅ Live QRNG session completed!\n",
            "\n",
            "Total quantum random numbers generated: 2560\n",
            "Here are 10 random samples:\n",
            "[244, 204, 82, 196, 160, 79, 103, 3, 51, 74]\n",
            "\n",
            "📊 Randomness stats — Mean: 126.82, Std Dev: 74.58\n"
          ]
        }
      ]
    }
  ]
}