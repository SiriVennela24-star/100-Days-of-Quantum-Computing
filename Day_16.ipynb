{
  "nbformat": 4,
  "nbformat_minor": 0,
  "metadata": {
    "colab": {
      "provenance": []
    },
    "kernelspec": {
      "name": "python3",
      "display_name": "Python 3"
    },
    "language_info": {
      "name": "python"
    }
  },
  "cells": [
    {
      "cell_type": "code",
      "execution_count": 1,
      "metadata": {
        "colab": {
          "base_uri": "https://localhost:8080/"
        },
        "id": "RIMj3A06SvF6",
        "outputId": "3fa7592f-c2da-4758-a195-a23a8412dbf0"
      },
      "outputs": [
        {
          "output_type": "stream",
          "name": "stdout",
          "text": [
            "Requirement already satisfied: qiskit in /usr/local/lib/python3.12/dist-packages (2.2.1)\n",
            "Requirement already satisfied: rustworkx>=0.15.0 in /usr/local/lib/python3.12/dist-packages (from qiskit) (0.17.1)\n",
            "Requirement already satisfied: numpy<3,>=1.17 in /usr/local/lib/python3.12/dist-packages (from qiskit) (2.0.2)\n",
            "Requirement already satisfied: scipy>=1.5 in /usr/local/lib/python3.12/dist-packages (from qiskit) (1.16.2)\n",
            "Requirement already satisfied: dill>=0.3 in /usr/local/lib/python3.12/dist-packages (from qiskit) (0.3.8)\n",
            "Requirement already satisfied: stevedore>=3.0.0 in /usr/local/lib/python3.12/dist-packages (from qiskit) (5.5.0)\n",
            "Requirement already satisfied: typing-extensions in /usr/local/lib/python3.12/dist-packages (from qiskit) (4.15.0)\n"
          ]
        }
      ],
      "source": [
        "!pip install qiskit"
      ]
    },
    {
      "cell_type": "code",
      "source": [
        "# Install Qiskit if not already installed\n",
        "!pip install qiskit --quiet\n",
        "!pip install qiskit-aer --quiet\n",
        "!pip install pylatexenc --quiet\n",
        "\n",
        "# Imports\n",
        "from qiskit import QuantumCircuit, transpile\n",
        "from qiskit_aer import Aer\n",
        "from qiskit.circuit import Parameter\n",
        "from qiskit.visualization import plot_histogram\n",
        "\n",
        "# Step 1: Define a parameter for the angle\n",
        "theta = Parameter('θ')  # classical feature encoded as rotation\n",
        "\n",
        "# Step 2: Build a single-qubit circuit\n",
        "qc = QuantumCircuit(1, 1)\n",
        "qc.ry(theta, 0)    # Encode the classical feature as rotation\n",
        "qc.measure(0, 0)   # Measure the qubit\n",
        "qc.draw('mpl')      # Display the circuit\n",
        "\n",
        "# To run the circuit, you would typically transpile it and run on a backend:\n",
        "# backend = Aer.get_backend('qasm_simulator')\n",
        "# transpiled_qc = transpile(qc, backend)\n",
        "# job = backend.run(transpiled_qc, shots=1024)\n",
        "# result = job.result()\n",
        "# counts = result.get_counts()\n",
        "# print(counts)"
      ],
      "metadata": {
        "colab": {
          "base_uri": "https://localhost:8080/",
          "height": 191
        },
        "id": "jTgptgEcS0Nm",
        "outputId": "607ee504-049f-4e81-cb51-fffe4e9e5a88"
      },
      "execution_count": 2,
      "outputs": [
        {
          "output_type": "execute_result",
          "data": {
            "text/plain": [
              "<Figure size 269.064x200.667 with 1 Axes>"
            ],
            "image/png": "[encoded data removed]"
          },
          "metadata": {},
          "execution_count": 2
        }
      ]
    },
    {
      "cell_type": "code",
      "source": [
        "# Choose some sample data points\n",
        "angle_values = [0, 3.14/4, 3.14/2, 3.14]  # radians\n",
        "\n",
        "backend = Aer.get_backend('aer_simulator')\n",
        "\n",
        "for val in angle_values:\n",
        "    bound_qc = qc.assign_parameters({theta: val})\n",
        "    job = backend.run(bound_qc, shots=1024)\n",
        "    result = job.result().get_counts()\n",
        "    print(f\"θ = {val} rad -> Measurement counts: {result}\")\n",
        "    plot_histogram(result).show()"
      ],
      "metadata": {
        "colab": {
          "base_uri": "https://localhost:8080/"
        },
        "id": "aysW-16MT_lO",
        "outputId": "f4ff25ce-539d-4d47-f6ac-d9afe93d9308"
      },
      "execution_count": 4,
      "outputs": [
        {
          "output_type": "stream",
          "name": "stdout",
          "text": [
            "θ = 0 rad -> Measurement counts: {'0': 1024}\n",
            "θ = 0.785 rad -> Measurement counts: {'1': 158, '0': 866}\n",
            "θ = 1.57 rad -> Measurement counts: {'0': 516, '1': 508}\n",
            "θ = 3.14 rad -> Measurement counts: {'1': 1024}\n"
          ]
        }
      ]
    },
    {
      "cell_type": "code",
      "source": [
        "from qiskit.visualization import plot_bloch_vector\n",
        "from qiskit.quantum_info import Statevector\n",
        "import numpy as np\n",
        "\n",
        "# Create a circuit without measurement for statevector simulation\n",
        "qc_statevector = qc.remove_final_measurements(inplace=False)\n",
        "\n",
        "for val in angle_values:\n",
        "    bound_qc_statevector = qc_statevector.assign_parameters({theta: val})\n",
        "    state = Statevector.from_instruction(bound_qc_statevector)\n",
        "    plot_bloch_vector([state.data[0].real, state.data[0].imag, abs(state.data[1])**2])"
      ],
      "metadata": {
        "id": "phkGAuYvUPmx"
      },
      "execution_count": 8,
      "outputs": []
    }
  ]
}