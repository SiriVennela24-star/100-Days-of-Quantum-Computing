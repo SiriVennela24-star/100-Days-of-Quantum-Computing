{
  "nbformat": 4,
  "nbformat_minor": 0,
  "metadata": {
    "colab": {
      "provenance": []
    },
    "kernelspec": {
      "name": "python3",
      "display_name": "Python 3"
    },
    "language_info": {
      "name": "python"
    }
  },
  "cells": [
    {
      "cell_type": "code",
      "execution_count": 3,
      "metadata": {
        "colab": {
          "base_uri": "https://localhost:8080/"
        },
        "id": "xwkCsSb4dx4m",
        "outputId": "ff098ba6-fede-46e5-8d51-bcda09b0150c"
      },
      "outputs": [
        {
          "output_type": "stream",
          "name": "stdout",
          "text": [
            "Requirement already satisfied: qiskit in /usr/local/lib/python3.12/dist-packages (2.2.1)\n",
            "Requirement already satisfied: rustworkx>=0.15.0 in /usr/local/lib/python3.12/dist-packages (from qiskit) (0.17.1)\n",
            "Requirement already satisfied: numpy<3,>=1.17 in /usr/local/lib/python3.12/dist-packages (from qiskit) (2.0.2)\n",
            "Requirement already satisfied: scipy>=1.5 in /usr/local/lib/python3.12/dist-packages (from qiskit) (1.16.2)\n",
            "Requirement already satisfied: dill>=0.3 in /usr/local/lib/python3.12/dist-packages (from qiskit) (0.3.8)\n",
            "Requirement already satisfied: stevedore>=3.0.0 in /usr/local/lib/python3.12/dist-packages (from qiskit) (5.5.0)\n",
            "Requirement already satisfied: typing-extensions in /usr/local/lib/python3.12/dist-packages (from qiskit) (4.15.0)\n",
            "\u001b[2K     \u001b[90m━━━━━━━━━━━━━━━━━━━━━━━━━━━━━━━━━━━━━━━━\u001b[0m \u001b[32m62.0/62.0 kB\u001b[0m \u001b[31m3.0 MB/s\u001b[0m eta \u001b[36m0:00:00\u001b[0m\n",
            "\u001b[2K   \u001b[90m━━━━━━━━━━━━━━━━━━━━━━━━━━━━━━━━━━━━━━━━\u001b[0m \u001b[32m231.9/231.9 kB\u001b[0m \u001b[31m9.0 MB/s\u001b[0m eta \u001b[36m0:00:00\u001b[0m\n",
            "\u001b[2K   \u001b[90m━━━━━━━━━━━━━━━━━━━━━━━━━━━━━━━━━━━━━━━━\u001b[0m \u001b[32m6.8/6.8 MB\u001b[0m \u001b[31m71.7 MB/s\u001b[0m eta \u001b[36m0:00:00\u001b[0m\n",
            "\u001b[2K   \u001b[90m━━━━━━━━━━━━━━━━━━━━━━━━━━━━━━━━━━━━━━━━\u001b[0m \u001b[32m37.3/37.3 MB\u001b[0m \u001b[31m20.0 MB/s\u001b[0m eta \u001b[36m0:00:00\u001b[0m\n",
            "\u001b[2K   \u001b[90m━━━━━━━━━━━━━━━━━━━━━━━━━━━━━━━━━━━━━━━━\u001b[0m \u001b[32m49.6/49.6 MB\u001b[0m \u001b[31m11.2 MB/s\u001b[0m eta \u001b[36m0:00:00\u001b[0m\n",
            "\u001b[?25h"
          ]
        }
      ],
      "source": [
        "!pip install qiskit\n",
        "!pip install qiskit --quiet\n",
        "!pip install qiskit-aer --quiet\n",
        "!pip install pylatexenc --quiet\n",
        "!pip install qiskit-machine-learning --quiet"
      ]
    },
    {
      "cell_type": "code",
      "source": [
        "# Install necessary packages (if not installed)\n",
        "!pip install qiskit qiskit-machine-learning matplotlib --quiet\n",
        "\n",
        "# Imports\n",
        "from qiskit_machine_learning.neural_networks import SamplerQNN\n",
        "from qiskit.circuit.library import TwoLocal\n",
        "from qiskit.primitives import StatevectorSampler\n",
        "from qiskit.visualization import plot_histogram\n",
        "import numpy as np\n",
        "import matplotlib.pyplot as plt\n",
        "\n",
        "# Ensure inline plotting (for Jupyter/Colab)\n",
        "%matplotlib inline\n",
        "\n",
        "# Step 1: Define a parameterized feature map (2 qubits)\n",
        "feature_map = TwoLocal(\n",
        "    num_qubits=2,\n",
        "    rotation_blocks='ry',\n",
        "    entanglement_blocks='cz',\n",
        "    reps=1\n",
        ")\n",
        "\n",
        "# Step 2: Define the SamplerQNN\n",
        "sampler = StatevectorSampler()\n",
        "qnn = SamplerQNN(\n",
        "    circuit=feature_map,\n",
        "    sampler=sampler,\n",
        "    input_params=feature_map.parameters,  # Input features\n",
        "    weight_params=[],                     # No trainable weights for now\n",
        ")\n",
        "\n",
        "# Step 3: Provide sample input values\n",
        "num_inputs = len(feature_map.parameters)\n",
        "x_input = np.random.rand(num_inputs) * 2 * np.pi  # Random values in [0, 2π]\n",
        "\n",
        "# Step 4: Evaluate the QNN output\n",
        "output = qnn.forward(x_input, weights=np.array([]))\n",
        "print(\"Input values for QNN (radians):\")\n",
        "print(x_input)\n",
        "print(\"\\nQuantum Neural Network output (probabilities):\")\n",
        "print(output)\n",
        "\n",
        "# Step 5: Convert probabilities to counts for histogram\n",
        "probs = np.real(output[0])\n",
        "probs /= np.sum(probs)  # ensure normalization\n",
        "\n",
        "shots = 1024  # number of simulated measurements\n",
        "counts = (probs * shots).astype(int)  # convert probabilities to counts\n",
        "\n",
        "states = [format(i, f\"0{feature_map.num_qubits}b\") for i in range(len(counts))]\n",
        "counts_dict = dict(zip(states, counts))\n",
        "\n",
        "# Step 6: Plot histogram\n",
        "fig = plot_histogram(counts_dict)\n",
        "fig.suptitle(\"QNN Output Probabilities for Input Vector\")\n",
        "plt.show(fig)\n"
      ],
      "metadata": {
        "colab": {
          "base_uri": "https://localhost:8080/"
        },
        "id": "urPwL1kPhVaU",
        "outputId": "c5489392-1beb-47da-d64f-7d8e20a16f2f"
      },
      "execution_count": 10,
      "outputs": [
        {
          "output_type": "stream",
          "name": "stderr",
          "text": [
            "WARNING:qiskit_machine_learning.neural_networks.sampler_qnn:No gradient function provided, creating a gradient function. If your Sampler requires transpilation, please provide a pass manager.\n"
          ]
        },
        {
          "output_type": "stream",
          "name": "stdout",
          "text": [
            "Input values for QNN (radians):\n",
            "[3.91240939 1.64121513 2.87348018 6.07730044]\n",
            "\n",
            "Quantum Neural Network output (probabilities):\n",
            "[[0.35351562 0.04589844 0.49316406 0.10742188]]\n"
          ]
        }
      ]
    },
    {
      "cell_type": "code",
      "source": [
        "# Install necessary packages\n",
        "!pip install qiskit qiskit-machine-learning matplotlib --quiet\n",
        "\n",
        "# Imports\n",
        "from qiskit_machine_learning.neural_networks import SamplerQNN\n",
        "from qiskit.circuit.library import TwoLocal\n",
        "from qiskit.primitives import StatevectorSampler\n",
        "from qiskit.visualization import plot_histogram\n",
        "import numpy as np\n",
        "import matplotlib.pyplot as plt\n",
        "\n",
        "# Ensure inline plotting (for Jupyter/Colab)\n",
        "%matplotlib inline\n",
        "\n",
        "# Step 1: Define a parameterized feature map (2 qubits)\n",
        "feature_map = TwoLocal(\n",
        "    num_qubits=2,\n",
        "    rotation_blocks='ry',\n",
        "    entanglement_blocks='cz',\n",
        "    reps=1\n",
        ")\n",
        "\n",
        "# Step 2: Define the SamplerQNN\n",
        "sampler = StatevectorSampler()\n",
        "qnn = SamplerQNN(\n",
        "    circuit=feature_map,\n",
        "    sampler=sampler,\n",
        "    input_params=feature_map.parameters,  # Input features\n",
        "    weight_params=[],                     # No trainable weights for now\n",
        ")\n",
        "\n",
        "# Step 3: Provide sample input values\n",
        "num_inputs = len(feature_map.parameters)\n",
        "x_input = np.random.rand(num_inputs) * 2 * np.pi  # Random values in [0, 2π]\n",
        "\n",
        "# Step 4: Evaluate the QNN output\n",
        "output = qnn.forward(x_input, weights=np.array([]))\n",
        "print(\"Input values for QNN (radians):\")\n",
        "print(x_input)\n",
        "\n",
        "# Step 5: Extract probabilities\n",
        "probs = np.real(output[0])\n",
        "probs /= np.sum(probs)  # Ensure normalization\n",
        "print(\"\\nQuantum Neural Network output (probabilities):\")\n",
        "for i, p in enumerate(probs):\n",
        "    state = format(i, f\"0{feature_map.num_qubits}b\")\n",
        "    print(f\"|{state}⟩ → {p:.4f}\")\n",
        "\n",
        "# Step 6: Convert probabilities to counts for histogram\n",
        "shots = 1024\n",
        "counts = (probs * shots).astype(int)\n",
        "states = [format(i, f\"0{feature_map.num_qubits}b\") for i in range(len(counts))]\n",
        "counts_dict = dict(zip(states, counts))\n",
        "\n",
        "# Step 7: Plot histogram\n",
        "fig = plot_histogram(counts_dict)\n",
        "fig.suptitle(\"QNN Output Probabilities for Input Vector\")\n",
        "plt.show(fig)\n"
      ],
      "metadata": {
        "colab": {
          "base_uri": "https://localhost:8080/"
        },
        "id": "eMx0GjLCh8Ca",
        "outputId": "d702352e-2dd1-4235-eb8b-d4b54c9e56eb"
      },
      "execution_count": 11,
      "outputs": [
        {
          "output_type": "stream",
          "name": "stderr",
          "text": [
            "WARNING:qiskit_machine_learning.neural_networks.sampler_qnn:No gradient function provided, creating a gradient function. If your Sampler requires transpilation, please provide a pass manager.\n"
          ]
        },
        {
          "output_type": "stream",
          "name": "stdout",
          "text": [
            "Input values for QNN (radians):\n",
            "[5.1297009  1.44756876 0.37248017 2.55359669]\n",
            "\n",
            "Quantum Neural Network output (probabilities):\n",
            "|00⟩ → 0.0771\n",
            "|01⟩ → 0.2744\n",
            "|10⟩ → 0.6289\n",
            "|11⟩ → 0.0195\n"
          ]
        }
      ]
    }
  ]
}