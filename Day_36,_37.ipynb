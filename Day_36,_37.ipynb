{
  "cells": [
    {
      "cell_type": "code",
      "execution_count": null,
      "metadata": {
        "colab": {
          "base_uri": "https://localhost:8080/"
        },
        "id": "pynw2O0_Xyxx",
        "outputId": "926a0d2b-8e24-4ea2-b698-14d407a3121b"
      },
      "outputs": [
        {
          "name": "stdout",
          "output_type": "stream",
          "text": [
            "Collecting qiskit\n",
            "  Downloading qiskit-2.2.2-cp39-abi3-manylinux2014_x86_64.manylinux_2_17_x86_64.whl.metadata (12 kB)\n",
            "Collecting rustworkx>=0.15.0 (from qiskit)\n",
            "  Downloading rustworkx-0.17.1-cp39-abi3-manylinux_2_17_x86_64.manylinux2014_x86_64.whl.metadata (10 kB)\n",
            "Requirement already satisfied: numpy<3,>=1.17 in /usr/local/lib/python3.12/dist-packages (from qiskit) (2.0.2)\n",
            "Requirement already satisfied: scipy>=1.5 in /usr/local/lib/python3.12/dist-packages (from qiskit) (1.16.2)\n",
            "Requirement already satisfied: dill>=0.3 in /usr/local/lib/python3.12/dist-packages (from qiskit) (0.3.8)\n",
            "Collecting stevedore>=3.0.0 (from qiskit)\n",
            "  Downloading stevedore-5.5.0-py3-none-any.whl.metadata (2.2 kB)\n",
            "Requirement already satisfied: typing-extensions in /usr/local/lib/python3.12/dist-packages (from qiskit) (4.15.0)\n",
            "Downloading qiskit-2.2.2-cp39-abi3-manylinux2014_x86_64.manylinux_2_17_x86_64.whl (8.0 MB)\n",
            "\u001b[2K   \u001b[90m━━━━━━━━━━━━━━━━━━━━━━━━━━━━━━━━━━━━━━━━\u001b[0m \u001b[32m8.0/8.0 MB\u001b[0m \u001b[31m47.4 MB/s\u001b[0m eta \u001b[36m0:00:00\u001b[0m\n",
            "\u001b[?25hDownloading rustworkx-0.17.1-cp39-abi3-manylinux_2_17_x86_64.manylinux2014_x86_64.whl (2.2 MB)\n",
            "\u001b[2K   \u001b[90m━━━━━━━━━━━━━━━━━━━━━━━━━━━━━━━━━━━━━━━━\u001b[0m \u001b[32m2.2/2.2 MB\u001b[0m \u001b[31m61.0 MB/s\u001b[0m eta \u001b[36m0:00:00\u001b[0m\n",
            "\u001b[?25hDownloading stevedore-5.5.0-py3-none-any.whl (49 kB)\n",
            "\u001b[2K   \u001b[90m━━━━━━━━━━━━━━━━━━━━━━━━━━━━━━━━━━━━━━━━\u001b[0m \u001b[32m49.5/49.5 kB\u001b[0m \u001b[31m2.8 MB/s\u001b[0m eta \u001b[36m0:00:00\u001b[0m\n",
            "\u001b[?25hInstalling collected packages: stevedore, rustworkx, qiskit\n",
            "Successfully installed qiskit-2.2.2 rustworkx-0.17.1 stevedore-5.5.0\n"
          ]
        }
      ],
      "source": [
        "!pip install qiskit"
      ]
    },
    {
      "cell_type": "code",
      "execution_count": null,
      "metadata": {
        "colab": {
          "base_uri": "https://localhost:8080/"
        },
        "id": "twbKWV6-X87S",
        "outputId": "449641bb-a0a4-44e9-acb8-b348706d6e6b"
      },
      "outputs": [
        {
          "name": "stdout",
          "output_type": "stream",
          "text": [
            "Collecting qiskit_machine_learning\n",
            "  Downloading qiskit_machine_learning-0.8.4-py3-none-any.whl.metadata (13 kB)\n",
            "Collecting qiskit<2.0,>=1.0 (from qiskit_machine_learning)\n",
            "  Downloading qiskit-1.4.5-cp39-abi3-manylinux_2_17_x86_64.manylinux2014_x86_64.whl.metadata (12 kB)\n",
            "Requirement already satisfied: numpy>=2.0 in /usr/local/lib/python3.12/dist-packages (from qiskit_machine_learning) (2.0.2)\n",
            "Collecting scipy<1.16,>=1.4 (from qiskit_machine_learning)\n",
            "  Downloading scipy-1.15.3-cp312-cp312-manylinux_2_17_x86_64.manylinux2014_x86_64.whl.metadata (61 kB)\n",
            "\u001b[2K     \u001b[90m━━━━━━━━━━━━━━━━━━━━━━━━━━━━━━━━━━━━━━━━\u001b[0m \u001b[32m62.0/62.0 kB\u001b[0m \u001b[31m3.4 MB/s\u001b[0m eta \u001b[36m0:00:00\u001b[0m\n",
            "\u001b[?25hRequirement already satisfied: scikit-learn>=1.2 in /usr/local/lib/python3.12/dist-packages (from qiskit_machine_learning) (1.6.1)\n",
            "Requirement already satisfied: setuptools>=40.1 in /usr/local/lib/python3.12/dist-packages (from qiskit_machine_learning) (75.2.0)\n",
            "Requirement already satisfied: dill>=0.3.4 in /usr/local/lib/python3.12/dist-packages (from qiskit_machine_learning) (0.3.8)\n",
            "Requirement already satisfied: rustworkx>=0.15.0 in /usr/local/lib/python3.12/dist-packages (from qiskit<2.0,>=1.0->qiskit_machine_learning) (0.17.1)\n",
            "Requirement already satisfied: sympy>=1.3 in /usr/local/lib/python3.12/dist-packages (from qiskit<2.0,>=1.0->qiskit_machine_learning) (1.13.3)\n",
            "Requirement already satisfied: python-dateutil>=2.8.0 in /usr/local/lib/python3.12/dist-packages (from qiskit<2.0,>=1.0->qiskit_machine_learning) (2.9.0.post0)\n",
            "Requirement already satisfied: stevedore>=3.0.0 in /usr/local/lib/python3.12/dist-packages (from qiskit<2.0,>=1.0->qiskit_machine_learning) (5.5.0)\n",
            "Requirement already satisfied: typing-extensions in /usr/local/lib/python3.12/dist-packages (from qiskit<2.0,>=1.0->qiskit_machine_learning) (4.15.0)\n",
            "Collecting symengine<0.14,>=0.11 (from qiskit<2.0,>=1.0->qiskit_machine_learning)\n",
            "  Downloading symengine-0.13.0-cp312-cp312-manylinux_2_17_x86_64.manylinux2014_x86_64.whl.metadata (1.2 kB)\n",
            "Requirement already satisfied: joblib>=1.2.0 in /usr/local/lib/python3.12/dist-packages (from scikit-learn>=1.2->qiskit_machine_learning) (1.5.2)\n",
            "Requirement already satisfied: threadpoolctl>=3.1.0 in /usr/local/lib/python3.12/dist-packages (from scikit-learn>=1.2->qiskit_machine_learning) (3.6.0)\n",
            "Requirement already satisfied: six>=1.5 in /usr/local/lib/python3.12/dist-packages (from python-dateutil>=2.8.0->qiskit<2.0,>=1.0->qiskit_machine_learning) (1.17.0)\n",
            "Requirement already satisfied: mpmath<1.4,>=1.1.0 in /usr/local/lib/python3.12/dist-packages (from sympy>=1.3->qiskit<2.0,>=1.0->qiskit_machine_learning) (1.3.0)\n",
            "Downloading qiskit_machine_learning-0.8.4-py3-none-any.whl (231 kB)\n",
            "\u001b[2K   \u001b[90m━━━━━━━━━━━━━━━━━━━━━━━━━━━━━━━━━━━━━━━━\u001b[0m \u001b[32m231.9/231.9 kB\u001b[0m \u001b[31m12.6 MB/s\u001b[0m eta \u001b[36m0:00:00\u001b[0m\n",
            "\u001b[?25hDownloading qiskit-1.4.5-cp39-abi3-manylinux_2_17_x86_64.manylinux2014_x86_64.whl (6.8 MB)\n",
            "\u001b[2K   \u001b[90m━━━━━━━━━━━━━━━━━━━━━━━━━━━━━━━━━━━━━━━━\u001b[0m \u001b[32m6.8/6.8 MB\u001b[0m \u001b[31m83.1 MB/s\u001b[0m eta \u001b[36m0:00:00\u001b[0m\n",
            "\u001b[?25hDownloading scipy-1.15.3-cp312-cp312-manylinux_2_17_x86_64.manylinux2014_x86_64.whl (37.3 MB)\n",
            "\u001b[2K   \u001b[90m━━━━━━━━━━━━━━━━━━━━━━━━━━━━━━━━━━━━━━━━\u001b[0m \u001b[32m37.3/37.3 MB\u001b[0m \u001b[31m19.3 MB/s\u001b[0m eta \u001b[36m0:00:00\u001b[0m\n",
            "\u001b[?25hDownloading symengine-0.13.0-cp312-cp312-manylinux_2_17_x86_64.manylinux2014_x86_64.whl (49.6 MB)\n",
            "\u001b[2K   \u001b[90m━━━━━━━━━━━━━━━━━━━━━━━━━━━━━━━━━━━━━━━━\u001b[0m \u001b[32m49.6/49.6 MB\u001b[0m \u001b[31m14.2 MB/s\u001b[0m eta \u001b[36m0:00:00\u001b[0m\n",
            "\u001b[?25hInstalling collected packages: symengine, scipy, qiskit, qiskit_machine_learning\n",
            "  Attempting uninstall: scipy\n",
            "    Found existing installation: scipy 1.16.2\n",
            "    Uninstalling scipy-1.16.2:\n",
            "      Successfully uninstalled scipy-1.16.2\n",
            "  Attempting uninstall: qiskit\n",
            "    Found existing installation: qiskit 2.2.2\n",
            "    Uninstalling qiskit-2.2.2:\n",
            "      Successfully uninstalled qiskit-2.2.2\n",
            "Successfully installed qiskit-1.4.5 qiskit_machine_learning-0.8.4 scipy-1.15.3 symengine-0.13.0\n"
          ]
        }
      ],
      "source": [
        "!pip install qiskit_machine_learning"
      ]
    },
    {
      "cell_type": "code",
      "execution_count": null,
      "metadata": {
        "colab": {
          "base_uri": "https://localhost:8080/"
        },
        "id": "cc7L4g1QYKhg",
        "outputId": "ae7276cd-b773-489d-f6ca-6e83de783af6"
      },
      "outputs": [
        {
          "name": "stdout",
          "output_type": "stream",
          "text": [
            "Collecting qiskit_algorithms\n",
            "  Downloading qiskit_algorithms-0.4.0-py3-none-any.whl.metadata (4.7 kB)\n",
            "Requirement already satisfied: qiskit>=1.0 in /usr/local/lib/python3.12/dist-packages (from qiskit_algorithms) (1.4.5)\n",
            "Requirement already satisfied: scipy>=1.4 in /usr/local/lib/python3.12/dist-packages (from qiskit_algorithms) (1.15.3)\n",
            "Requirement already satisfied: numpy>=1.17 in /usr/local/lib/python3.12/dist-packages (from qiskit_algorithms) (2.0.2)\n",
            "Requirement already satisfied: rustworkx>=0.15.0 in /usr/local/lib/python3.12/dist-packages (from qiskit>=1.0->qiskit_algorithms) (0.17.1)\n",
            "Requirement already satisfied: sympy>=1.3 in /usr/local/lib/python3.12/dist-packages (from qiskit>=1.0->qiskit_algorithms) (1.13.3)\n",
            "Requirement already satisfied: dill>=0.3 in /usr/local/lib/python3.12/dist-packages (from qiskit>=1.0->qiskit_algorithms) (0.3.8)\n",
            "Requirement already satisfied: python-dateutil>=2.8.0 in /usr/local/lib/python3.12/dist-packages (from qiskit>=1.0->qiskit_algorithms) (2.9.0.post0)\n",
            "Requirement already satisfied: stevedore>=3.0.0 in /usr/local/lib/python3.12/dist-packages (from qiskit>=1.0->qiskit_algorithms) (5.5.0)\n",
            "Requirement already satisfied: typing-extensions in /usr/local/lib/python3.12/dist-packages (from qiskit>=1.0->qiskit_algorithms) (4.15.0)\n",
            "Requirement already satisfied: symengine<0.14,>=0.11 in /usr/local/lib/python3.12/dist-packages (from qiskit>=1.0->qiskit_algorithms) (0.13.0)\n",
            "Requirement already satisfied: six>=1.5 in /usr/local/lib/python3.12/dist-packages (from python-dateutil>=2.8.0->qiskit>=1.0->qiskit_algorithms) (1.17.0)\n",
            "Requirement already satisfied: mpmath<1.4,>=1.1.0 in /usr/local/lib/python3.12/dist-packages (from sympy>=1.3->qiskit>=1.0->qiskit_algorithms) (1.3.0)\n",
            "Downloading qiskit_algorithms-0.4.0-py3-none-any.whl (327 kB)\n",
            "\u001b[2K   \u001b[90m━━━━━━━━━━━━━━━━━━━━━━━━━━━━━━━━━━━━━━━━\u001b[0m \u001b[32m327.8/327.8 kB\u001b[0m \u001b[31m8.3 MB/s\u001b[0m eta \u001b[36m0:00:00\u001b[0m\n",
            "\u001b[?25hInstalling collected packages: qiskit_algorithms\n",
            "Successfully installed qiskit_algorithms-0.4.0\n"
          ]
        }
      ],
      "source": [
        "!pip install qiskit_algorithms"
      ]
    },
    {
      "cell_type": "code",
      "execution_count": null,
      "metadata": {
        "colab": {
          "base_uri": "https://localhost:8080/"
        },
        "id": "WQRZekL1YTfQ",
        "outputId": "523f7683-1657-4a76-ca68-f9ea95dbcb76"
      },
      "outputs": [
        {
          "name": "stdout",
          "output_type": "stream",
          "text": [
            "Predictions: [ 1 -1 -1 -1  1  1  1 -1  1  1]\n",
            "Training accuracy: 0.9\n"
          ]
        },
        {
          "name": "stderr",
          "output_type": "stream",
          "text": [
            "/tmp/ipython-input-3112780065.py:14: DeprecationWarning: The class ``qiskit.primitives.sampler.Sampler`` is deprecated as of qiskit 1.2. It will be removed no earlier than 3 months after the release date. All implementations of the `BaseSamplerV1` interface have been deprecated in favor of their V2 counterparts. The V2 alternative for the `Sampler` class is `StatevectorSampler`.\n",
            "  sampler = Sampler()\n",
            "/tmp/ipython-input-3112780065.py:17: QiskitMachineLearningWarning: 'No quantum kernel is provided, SamplerV1 based quantum kernel will be used.'\n",
            "  qsvc = QSVC()\n"
          ]
        }
      ],
      "source": [
        "#Day 36 QSVM\n",
        "from sklearn.datasets import make_blobs\n",
        "from qiskit_machine_learning.algorithms import QSVC\n",
        "from qiskit.circuit.library import ZZFeatureMap\n",
        "from qiskit_machine_learning.kernels import FidelityQuantumKernel\n",
        "import numpy as np\n",
        "from qiskit.primitives import Sampler\n",
        "\n",
        "# --- Create 2-class dataset ---\n",
        "X, y = make_blobs(n_samples=10, centers=2, random_state=6)\n",
        "y[y==0] = -1  # QSVC expects labels ±1\n",
        "\n",
        "# --- Kernel + QSVC ---\n",
        "# Initialize algorithm_globals and sampler\n",
        "sampler = Sampler()\n",
        "\n",
        "kernel = FidelityQuantumKernel(feature_map=ZZFeatureMap(2, reps=1))\n",
        "qsvc = QSVC()\n",
        "qsvc.quantum_kernel = kernel\n",
        "qsvc.fit(X, y)\n",
        "preds = qsvc.predict(X)\n",
        "\n",
        "print(\"Predictions:\", preds)\n",
        "print(\"Training accuracy:\", np.mean(preds == y))"
      ]
    },
    {
      "cell_type": "code",
      "execution_count": null,
      "metadata": {
        "colab": {
          "base_uri": "https://localhost:8080/"
        },
        "id": "_mgLO9uOax6X",
        "outputId": "a64feefe-4746-4feb-f1dd-10a4c5293f55"
      },
      "outputs": [
        {
          "name": "stdout",
          "output_type": "stream",
          "text": [
            "Collecting pylatexenc\n",
            "  Downloading pylatexenc-2.10.tar.gz (162 kB)\n",
            "\u001b[?25l     \u001b[90m━━━━━━━━━━━━━━━━━━━━━━━━━━━━━━━━━━━━━━━━\u001b[0m \u001b[32m0.0/162.6 kB\u001b[0m \u001b[31m?\u001b[0m eta \u001b[36m-:--:--\u001b[0m\r\u001b[2K     \u001b[90m━━━━━━━━━━━━━━━━━━━━━━━━━━━━━━━━━━━━━━━\u001b[0m \u001b[32m162.6/162.6 kB\u001b[0m \u001b[31m6.8 MB/s\u001b[0m eta \u001b[36m0:00:00\u001b[0m\n",
            "\u001b[?25h  Preparing metadata (setup.py) ... \u001b[?25l\u001b[?25hdone\n",
            "Building wheels for collected packages: pylatexenc\n",
            "  Building wheel for pylatexenc (setup.py) ... \u001b[?25l\u001b[?25hdone\n",
            "  Created wheel for pylatexenc: filename=pylatexenc-2.10-py3-none-any.whl size=136817 sha256=fbde3da8c1fe068d63108deb444fa9784ed8b70224cbbca3f4d17d5120166f02\n",
            "  Stored in directory: /root/.cache/pip/wheels/06/3e/78/fa1588c1ae991bbfd814af2bcac6cef7a178beee1939180d46\n",
            "Successfully built pylatexenc\n",
            "Installing collected packages: pylatexenc\n",
            "Successfully installed pylatexenc-2.10\n"
          ]
        }
      ],
      "source": [
        "!pip install pylatexenc"
      ]
    },
    {
      "cell_type": "code",
      "execution_count": 18,
      "metadata": {
        "id": "yeLdtj-oZi2i"
      },
      "outputs": [],
      "source": [
        "!pip install qiskit-machine-learning==0.3.1 --quiet"
      ]
    },
    {
      "cell_type": "code",
      "source": [
        "!pip install qiskit_algorithms\n",
        "!pip install qiskit_machine_learning"
      ],
      "metadata": {
        "colab": {
          "base_uri": "https://localhost:8080/"
        },
        "id": "dXWNX9-jeaGw",
        "outputId": "38fa3b6b-76e3-4cf3-ea7a-17ca7601b73e"
      },
      "execution_count": 2,
      "outputs": [
        {
          "output_type": "stream",
          "name": "stdout",
          "text": [
            "Requirement already satisfied: qiskit_algorithms in /usr/local/lib/python3.12/dist-packages (0.4.0)\n",
            "Requirement already satisfied: qiskit>=1.0 in /usr/local/lib/python3.12/dist-packages (from qiskit_algorithms) (1.4.5)\n",
            "Requirement already satisfied: scipy>=1.4 in /usr/local/lib/python3.12/dist-packages (from qiskit_algorithms) (1.15.3)\n",
            "Requirement already satisfied: numpy>=1.17 in /usr/local/lib/python3.12/dist-packages (from qiskit_algorithms) (2.0.2)\n",
            "Requirement already satisfied: rustworkx>=0.15.0 in /usr/local/lib/python3.12/dist-packages (from qiskit>=1.0->qiskit_algorithms) (0.17.1)\n",
            "Requirement already satisfied: sympy>=1.3 in /usr/local/lib/python3.12/dist-packages (from qiskit>=1.0->qiskit_algorithms) (1.13.3)\n",
            "Requirement already satisfied: dill>=0.3 in /usr/local/lib/python3.12/dist-packages (from qiskit>=1.0->qiskit_algorithms) (0.3.8)\n",
            "Requirement already satisfied: python-dateutil>=2.8.0 in /usr/local/lib/python3.12/dist-packages (from qiskit>=1.0->qiskit_algorithms) (2.9.0.post0)\n",
            "Requirement already satisfied: stevedore>=3.0.0 in /usr/local/lib/python3.12/dist-packages (from qiskit>=1.0->qiskit_algorithms) (5.5.0)\n",
            "Requirement already satisfied: typing-extensions in /usr/local/lib/python3.12/dist-packages (from qiskit>=1.0->qiskit_algorithms) (4.15.0)\n",
            "Requirement already satisfied: symengine<0.14,>=0.11 in /usr/local/lib/python3.12/dist-packages (from qiskit>=1.0->qiskit_algorithms) (0.13.0)\n",
            "Requirement already satisfied: six>=1.5 in /usr/local/lib/python3.12/dist-packages (from python-dateutil>=2.8.0->qiskit>=1.0->qiskit_algorithms) (1.17.0)\n",
            "Requirement already satisfied: mpmath<1.4,>=1.1.0 in /usr/local/lib/python3.12/dist-packages (from sympy>=1.3->qiskit>=1.0->qiskit_algorithms) (1.3.0)\n",
            "Requirement already satisfied: qiskit_machine_learning in /usr/local/lib/python3.12/dist-packages (0.8.4)\n",
            "Requirement already satisfied: qiskit<2.0,>=1.0 in /usr/local/lib/python3.12/dist-packages (from qiskit_machine_learning) (1.4.5)\n",
            "Requirement already satisfied: numpy>=2.0 in /usr/local/lib/python3.12/dist-packages (from qiskit_machine_learning) (2.0.2)\n",
            "Requirement already satisfied: scipy<1.16,>=1.4 in /usr/local/lib/python3.12/dist-packages (from qiskit_machine_learning) (1.15.3)\n",
            "Requirement already satisfied: scikit-learn>=1.2 in /usr/local/lib/python3.12/dist-packages (from qiskit_machine_learning) (1.6.1)\n",
            "Requirement already satisfied: setuptools>=40.1 in /usr/local/lib/python3.12/dist-packages (from qiskit_machine_learning) (75.2.0)\n",
            "Requirement already satisfied: dill>=0.3.4 in /usr/local/lib/python3.12/dist-packages (from qiskit_machine_learning) (0.3.8)\n",
            "Requirement already satisfied: rustworkx>=0.15.0 in /usr/local/lib/python3.12/dist-packages (from qiskit<2.0,>=1.0->qiskit_machine_learning) (0.17.1)\n",
            "Requirement already satisfied: sympy>=1.3 in /usr/local/lib/python3.12/dist-packages (from qiskit<2.0,>=1.0->qiskit_machine_learning) (1.13.3)\n",
            "Requirement already satisfied: python-dateutil>=2.8.0 in /usr/local/lib/python3.12/dist-packages (from qiskit<2.0,>=1.0->qiskit_machine_learning) (2.9.0.post0)\n",
            "Requirement already satisfied: stevedore>=3.0.0 in /usr/local/lib/python3.12/dist-packages (from qiskit<2.0,>=1.0->qiskit_machine_learning) (5.5.0)\n",
            "Requirement already satisfied: typing-extensions in /usr/local/lib/python3.12/dist-packages (from qiskit<2.0,>=1.0->qiskit_machine_learning) (4.15.0)\n",
            "Requirement already satisfied: symengine<0.14,>=0.11 in /usr/local/lib/python3.12/dist-packages (from qiskit<2.0,>=1.0->qiskit_machine_learning) (0.13.0)\n",
            "Requirement already satisfied: joblib>=1.2.0 in /usr/local/lib/python3.12/dist-packages (from scikit-learn>=1.2->qiskit_machine_learning) (1.5.2)\n",
            "Requirement already satisfied: threadpoolctl>=3.1.0 in /usr/local/lib/python3.12/dist-packages (from scikit-learn>=1.2->qiskit_machine_learning) (3.6.0)\n",
            "Requirement already satisfied: six>=1.5 in /usr/local/lib/python3.12/dist-packages (from python-dateutil>=2.8.0->qiskit<2.0,>=1.0->qiskit_machine_learning) (1.17.0)\n",
            "Requirement already satisfied: mpmath<1.4,>=1.1.0 in /usr/local/lib/python3.12/dist-packages (from sympy>=1.3->qiskit<2.0,>=1.0->qiskit_machine_learning) (1.3.0)\n"
          ]
        }
      ]
    },
    {
      "cell_type": "code",
      "source": [
        "!pip install qiskit==0.39.4 qiskit-machine-learning==0.3.1 --quiet\n",
        "from qiskit_machine_learning.algorithms import QGAN\n",
        "print(\"QGAN imported successfully ✅\")\n"
      ],
      "metadata": {
        "colab": {
          "base_uri": "https://localhost:8080/",
          "height": 730
        },
        "id": "cPfkKWrTg7DT",
        "outputId": "57ec9dc8-aa27-4816-e008-326b6eab860f"
      },
      "execution_count": 4,
      "outputs": [
        {
          "output_type": "stream",
          "name": "stdout",
          "text": [
            "  Preparing metadata (setup.py) ... \u001b[?25l\u001b[?25hdone\n",
            "\u001b[2K     \u001b[90m━━━━━━━━━━━━━━━━━━━━━━━━━━━━━━━━━━━━━━━━\u001b[0m \u001b[32m4.6/4.6 MB\u001b[0m \u001b[31m6.7 MB/s\u001b[0m eta \u001b[36m0:00:00\u001b[0m\n",
            "\u001b[?25h  Installing build dependencies ... \u001b[?25l\u001b[?25hdone\n",
            "  Getting requirements to build wheel ... \u001b[?25l\u001b[?25hdone\n",
            "  Preparing metadata (pyproject.toml) ... \u001b[?25l\u001b[?25hdone\n",
            "\u001b[2K     \u001b[90m━━━━━━━━━━━━━━━━━━━━━━━━━━━━━━━━━━━━━━━━\u001b[0m \u001b[32m6.5/6.5 MB\u001b[0m \u001b[31m5.8 MB/s\u001b[0m eta \u001b[36m0:00:00\u001b[0m\n",
            "\u001b[?25h  Installing build dependencies ... \u001b[?25l\u001b[?25hdone\n",
            "  \u001b[1;31merror\u001b[0m: \u001b[1msubprocess-exited-with-error\u001b[0m\n",
            "  \n",
            "  \u001b[31m×\u001b[0m \u001b[32mGetting requirements to build wheel\u001b[0m did not run successfully.\n",
            "  \u001b[31m│\u001b[0m exit code: \u001b[1;36m1\u001b[0m\n",
            "  \u001b[31m╰─>\u001b[0m See above for output.\n",
            "  \n",
            "  \u001b[1;35mnote\u001b[0m: This error originates from a subprocess, and is likely not a problem with pip.\n",
            "  Getting requirements to build wheel ... \u001b[?25l\u001b[?25herror\n",
            "\u001b[1;31merror\u001b[0m: \u001b[1msubprocess-exited-with-error\u001b[0m\n",
            "\n",
            "\u001b[31m×\u001b[0m \u001b[32mGetting requirements to build wheel\u001b[0m did not run successfully.\n",
            "\u001b[31m│\u001b[0m exit code: \u001b[1;36m1\u001b[0m\n",
            "\u001b[31m╰─>\u001b[0m See above for output.\n",
            "\n",
            "\u001b[1;35mnote\u001b[0m: This error originates from a subprocess, and is likely not a problem with pip.\n"
          ]
        },
        {
          "output_type": "error",
          "ename": "ImportError",
          "evalue": "cannot import name 'QGAN' from 'qiskit_machine_learning.algorithms' (/usr/local/lib/python3.12/dist-packages/qiskit_machine_learning/algorithms/__init__.py)",
          "traceback": [
            "\u001b[0;31m---------------------------------------------------------------------------\u001b[0m",
            "\u001b[0;31mImportError\u001b[0m                               Traceback (most recent call last)",
            "\u001b[0;32m/tmp/ipython-input-3142069658.py\u001b[0m in \u001b[0;36m<cell line: 0>\u001b[0;34m()\u001b[0m\n\u001b[1;32m      1\u001b[0m \u001b[0mget_ipython\u001b[0m\u001b[0;34m(\u001b[0m\u001b[0;34m)\u001b[0m\u001b[0;34m.\u001b[0m\u001b[0msystem\u001b[0m\u001b[0;34m(\u001b[0m\u001b[0;34m'pip install qiskit==0.39.4 qiskit-machine-learning==0.3.1 --quiet'\u001b[0m\u001b[0;34m)\u001b[0m\u001b[0;34m\u001b[0m\u001b[0;34m\u001b[0m\u001b[0m\n\u001b[0;32m----> 2\u001b[0;31m \u001b[0;32mfrom\u001b[0m \u001b[0mqiskit_machine_learning\u001b[0m\u001b[0;34m.\u001b[0m\u001b[0malgorithms\u001b[0m \u001b[0;32mimport\u001b[0m \u001b[0mQGAN\u001b[0m\u001b[0;34m\u001b[0m\u001b[0;34m\u001b[0m\u001b[0m\n\u001b[0m\u001b[1;32m      3\u001b[0m \u001b[0mprint\u001b[0m\u001b[0;34m(\u001b[0m\u001b[0;34m\"QGAN imported successfully ✅\"\u001b[0m\u001b[0;34m)\u001b[0m\u001b[0;34m\u001b[0m\u001b[0;34m\u001b[0m\u001b[0m\n",
            "\u001b[0;31mImportError\u001b[0m: cannot import name 'QGAN' from 'qiskit_machine_learning.algorithms' (/usr/local/lib/python3.12/dist-packages/qiskit_machine_learning/algorithms/__init__.py)",
            "",
            "\u001b[0;31m---------------------------------------------------------------------------\u001b[0;32m\nNOTE: If your import is failing due to a missing package, you can\nmanually install dependencies using either !pip or !apt.\n\nTo view examples of installing some common dependencies, click the\n\"Open Examples\" button below.\n\u001b[0;31m---------------------------------------------------------------------------\u001b[0m\n"
          ],
          "errorDetails": {
            "actions": [
              {
                "action": "open_url",
                "actionText": "Open Examples",
                "url": "/notebooks/snippets/importing_libraries.ipynb"
              }
            ]
          }
        }
      ]
    },
    {
      "cell_type": "code",
      "source": [
        "!sudo apt-get install python3.10 python3.10-dev python3.10-distutils -y\n",
        "!wget https://bootstrap.pypa.io/get-pip.py\n",
        "!python3.10 get-pip.py\n",
        "!python3.10 -m pip install qiskit==0.39.4 qiskit-machine-learning==0.3.1 --quiet\n"
      ],
      "metadata": {
        "colab": {
          "base_uri": "https://localhost:8080/"
        },
        "id": "w0sI9fs8htbo",
        "outputId": "b48d5ab0-20be-4cf0-816c-2c0365288689"
      },
      "execution_count": 1,
      "outputs": [
        {
          "output_type": "stream",
          "name": "stdout",
          "text": [
            "Reading package lists... Done\n",
            "Building dependency tree... Done\n",
            "Reading state information... Done\n",
            "Note, selecting 'python3-distutils' instead of 'python3.10-distutils'\n",
            "python3-distutils is already the newest version (3.10.8-1~22.04).\n",
            "python3-distutils set to manually installed.\n",
            "python3.10 is already the newest version (3.10.12-1~22.04.11).\n",
            "python3.10 set to manually installed.\n",
            "python3.10-dev is already the newest version (3.10.12-1~22.04.11).\n",
            "python3.10-dev set to manually installed.\n",
            "0 upgraded, 0 newly installed, 0 to remove and 38 not upgraded.\n",
            "--2025-10-27 16:36:35--  https://bootstrap.pypa.io/get-pip.py\n",
            "Resolving bootstrap.pypa.io (bootstrap.pypa.io)... 151.101.0.175, 151.101.64.175, 151.101.128.175, ...\n",
            "Connecting to bootstrap.pypa.io (bootstrap.pypa.io)|151.101.0.175|:443... connected.\n",
            "HTTP request sent, awaiting response... 200 OK\n",
            "Length: 2182415 (2.1M) [text/x-python]\n",
            "Saving to: ‘get-pip.py’\n",
            "\n",
            "get-pip.py          100%[===================>]   2.08M  --.-KB/s    in 0.03s   \n",
            "\n",
            "2025-10-27 16:36:35 (62.7 MB/s) - ‘get-pip.py’ saved [2182415/2182415]\n",
            "\n",
            "Collecting pip\n",
            "  Downloading pip-25.3-py3-none-any.whl.metadata (4.7 kB)\n",
            "Collecting setuptools\n",
            "  Using cached setuptools-80.9.0-py3-none-any.whl.metadata (6.6 kB)\n",
            "Collecting wheel\n",
            "  Using cached wheel-0.45.1-py3-none-any.whl.metadata (2.3 kB)\n",
            "Downloading pip-25.3-py3-none-any.whl (1.8 MB)\n",
            "\u001b[2K   \u001b[90m━━━━━━━━━━━━━━━━━━━━━━━━━━━━━━━━━━━━━━━━\u001b[0m \u001b[32m1.8/1.8 MB\u001b[0m \u001b[31m10.1 MB/s\u001b[0m  \u001b[33m0:00:00\u001b[0m\n",
            "\u001b[?25hUsing cached setuptools-80.9.0-py3-none-any.whl (1.2 MB)\n",
            "Using cached wheel-0.45.1-py3-none-any.whl (72 kB)\n",
            "Installing collected packages: wheel, setuptools, pip\n",
            "\u001b[2K   \u001b[90m━━━━━━━━━━━━━━━━━━━━━━━━━━━━━━━━━━━━━━━━\u001b[0m \u001b[32m3/3\u001b[0m [pip]\n",
            "\u001b[1A\u001b[2KSuccessfully installed pip-25.3 setuptools-80.9.0 wheel-0.45.1\n",
            "  Installing build dependencies ... \u001b[?25l\u001b[?25hdone\n",
            "  Getting requirements to build wheel ... \u001b[?25l\u001b[?25hdone\n",
            "  Preparing metadata (pyproject.toml) ... \u001b[?25l\u001b[?25hdone\n",
            "  Installing build dependencies ... \u001b[?25l\u001b[?25hdone\n",
            "  Getting requirements to build wheel ... \u001b[?25l\u001b[?25hdone\n",
            "  Preparing metadata (pyproject.toml) ... \u001b[?25l\u001b[?25hdone\n",
            "  Building wheel for qiskit (pyproject.toml) ... \u001b[?25l\u001b[?25hdone\n",
            "  Building wheel for fastdtw (pyproject.toml) ... \u001b[?25l\u001b[?25hdone\n"
          ]
        }
      ]
    },
    {
      "cell_type": "code",
      "source": [
        "!python3.10 -c \"from qiskit_machine_learning.algorithms import QGAN; print('QGAN imported successfully ✅')\"\n"
      ],
      "metadata": {
        "colab": {
          "base_uri": "https://localhost:8080/"
        },
        "id": "Pf4eUEnEhwSM",
        "outputId": "6dd2129a-9c61-4d3f-e3a5-a159809ad601"
      },
      "execution_count": 2,
      "outputs": [
        {
          "output_type": "stream",
          "name": "stdout",
          "text": [
            "Traceback (most recent call last):\n",
            "  File \"<string>\", line 1, in <module>\n",
            "  File \"/usr/local/lib/python3.10/dist-packages/qiskit_machine_learning/algorithms/__init__.py\", line 83, in <module>\n",
            "    from .trainable_model import TrainableModel\n",
            "  File \"/usr/local/lib/python3.10/dist-packages/qiskit_machine_learning/algorithms/trainable_model.py\", line 22, in <module>\n",
            "    from qiskit_machine_learning.neural_networks import NeuralNetwork\n",
            "  File \"/usr/local/lib/python3.10/dist-packages/qiskit_machine_learning/neural_networks/__init__.py\", line 52, in <module>\n",
            "    from .circuit_qnn import CircuitQNN\n",
            "  File \"/usr/local/lib/python3.10/dist-packages/qiskit_machine_learning/neural_networks/circuit_qnn.py\", line 40, in <module>\n",
            "    from qiskit.providers import BaseBackend, Backend\n",
            "ImportError: cannot import name 'BaseBackend' from 'qiskit.providers' (/usr/local/lib/python3.10/dist-packages/qiskit/providers/__init__.py)\n"
          ]
        }
      ]
    },
    {
      "cell_type": "code",
      "execution_count": 10,
      "metadata": {
        "colab": {
          "base_uri": "https://localhost:8080/",
          "height": 383
        },
        "id": "s0cz-TwvacE3",
        "outputId": "508103de-bbdd-4390-f890-6411da2d3321"
      },
      "outputs": [
        {
          "output_type": "error",
          "ename": "ModuleNotFoundError",
          "evalue": "No module named 'qiskit.utils.algorithm_globals'",
          "traceback": [
            "\u001b[0;31m---------------------------------------------------------------------------\u001b[0m",
            "\u001b[0;31mModuleNotFoundError\u001b[0m                       Traceback (most recent call last)",
            "\u001b[0;32m/tmp/ipython-input-70768865.py\u001b[0m in \u001b[0;36m<cell line: 0>\u001b[0;34m()\u001b[0m\n\u001b[1;32m      4\u001b[0m \u001b[0;34m\u001b[0m\u001b[0m\n\u001b[1;32m      5\u001b[0m \u001b[0;32mfrom\u001b[0m \u001b[0mqiskit\u001b[0m \u001b[0;32mimport\u001b[0m \u001b[0mQuantumCircuit\u001b[0m\u001b[0;34m\u001b[0m\u001b[0;34m\u001b[0m\u001b[0m\n\u001b[0;32m----> 6\u001b[0;31m \u001b[0;32mfrom\u001b[0m \u001b[0mqiskit\u001b[0m\u001b[0;34m.\u001b[0m\u001b[0mutils\u001b[0m\u001b[0;34m.\u001b[0m\u001b[0malgorithm_globals\u001b[0m \u001b[0;32mimport\u001b[0m \u001b[0malgorithm_globals\u001b[0m \u001b[0;31m# Updated import path\u001b[0m\u001b[0;34m\u001b[0m\u001b[0;34m\u001b[0m\u001b[0m\n\u001b[0m\u001b[1;32m      7\u001b[0m \u001b[0;32mfrom\u001b[0m \u001b[0mqiskit\u001b[0m\u001b[0;34m.\u001b[0m\u001b[0mprimitives\u001b[0m \u001b[0;32mimport\u001b[0m \u001b[0mSampler\u001b[0m \u001b[0;31m# Deprecated in qiskit 1.2, using StatevectorSampler instead\u001b[0m\u001b[0;34m\u001b[0m\u001b[0;34m\u001b[0m\u001b[0m\n\u001b[1;32m      8\u001b[0m \u001b[0;32mfrom\u001b[0m \u001b[0mqiskit_machine_learning\u001b[0m\u001b[0;34m.\u001b[0m\u001b[0mconnectors\u001b[0m \u001b[0;32mimport\u001b[0m \u001b[0mTorchConnector\u001b[0m\u001b[0;34m\u001b[0m\u001b[0;34m\u001b[0m\u001b[0m\n",
            "\u001b[0;31mModuleNotFoundError\u001b[0m: No module named 'qiskit.utils.algorithm_globals'",
            "",
            "\u001b[0;31m---------------------------------------------------------------------------\u001b[0;32m\nNOTE: If your import is failing due to a missing package, you can\nmanually install dependencies using either !pip or !apt.\n\nTo view examples of installing some common dependencies, click the\n\"Open Examples\" button below.\n\u001b[0;31m---------------------------------------------------------------------------\u001b[0m\n"
          ],
          "errorDetails": {
            "actions": [
              {
                "action": "open_url",
                "actionText": "Open Examples",
                "url": "/notebooks/snippets/importing_libraries.ipynb"
              }
            ]
          }
        }
      ],
      "source": [
        "# --- Imports ---\n",
        "import numpy as np\n",
        "import matplotlib.pyplot as plt\n",
        "\n",
        "from qiskit import QuantumCircuit\n",
        "from qiskit.utils.algorithm_globals import algorithm_globals # Updated import path\n",
        "from qiskit.primitives import Sampler # Deprecated in qiskit 1.2, using StatevectorSampler instead\n",
        "from qiskit_machine_learning.connectors import TorchConnector\n",
        "from qiskit_machine_learning.datasets import ad_hoc_data\n",
        "from qiskit_machine_learning.algorithms import QGAN\n",
        "from qiskit.providers import Backend # Updated import path for BaseBackend\n",
        "\n",
        "# --- Step 1: Prepare the Dataset ---\n",
        "# We'll create a simple 1D dataset drawn from a normal distribution (real data)\n",
        "real_data = np.random.normal(loc=1.0, scale=0.1, size=(1000, 1))\n",
        "print(\"Real data sample:\", real_data[:5])\n",
        "\n",
        "# --- Step 2: Define the QGAN parameters ---\n",
        "# Quantum GAN learns to generate data that mimics the real_data distribution\n",
        "bounds = [[-1.0, 2.0]]   # data range\n",
        "num_qubits = 1            # single qubit generator\n",
        "num_epochs = 100          # number of training iterations\n",
        "batch_size = 50           # training batch size\n",
        "\n",
        "# --- Step 3: Define the Generator circuit ---\n",
        "qc = QuantumCircuit(num_qubits)\n",
        "qc.ry(0.1, 0)\n",
        "qc.rx(0.1, 0)\n",
        "\n",
        "# --- Step 4: Initialize and Train the QGAN ---\n",
        "algorithm_globals.random_seed = 42\n",
        "sampler = Sampler()\n",
        "\n",
        "qgan = QGAN(\n",
        "    real_data=real_data,\n",
        "    bounds=bounds,\n",
        "    num_qubits=num_qubits,\n",
        "    batch_size=batch_size,\n",
        "    num_epochs=num_epochs,\n",
        "    sampler=sampler,\n",
        "    generator_circuit=qc,\n",
        "    discriminator=None,     # Default classical discriminator\n",
        "    snapshot_dir=None        # Disable snapshot saving\n",
        ")\n",
        "\n",
        "print(\"Training Quantum GAN...\")\n",
        "qgan.run()\n",
        "print(\"Training complete!\")\n",
        "\n",
        "# --- Step 5: Visualize the Results ---\n",
        "fig, ax = plt.subplots(figsize=(8, 5))\n",
        "ax.hist(real_data, bins=30, density=True, alpha=0.6, label=\"Real Data\")\n",
        "ax.hist(qgan.generator.get_output(1000), bins=30, density=True, alpha=0.6, label=\"QGAN Generated Data\")\n",
        "ax.set_title(\"Quantum GAN: Real vs Generated Data Distribution\")\n",
        "ax.legend()\n",
        "plt.show()"
      ]
    },
    {
      "cell_type": "code",
      "metadata": {
        "colab": {
          "base_uri": "https://localhost:8080/"
        },
        "id": "09efb669",
        "outputId": "434f1e9a-8a0b-4827-e808-313af2b3c212"
      },
      "source": [
        "import qiskit\n",
        "import inspect\n",
        "\n",
        "# Check where BaseBackend is located\n",
        "try:\n",
        "    from qiskit.providers import BaseBackend\n",
        "    print(f\"BaseBackend found in qiskit.providers: {inspect.getfile(BaseBackend)}\")\n",
        "except ImportError:\n",
        "    print(\"BaseBackend not found in qiskit.providers\")\n",
        "\n",
        "# Check other potential locations based on older Qiskit versions\n",
        "try:\n",
        "    from qiskit.providers.models import BaseBackend\n",
        "    print(f\"BaseBackend found in qiskit.providers.models: {inspect.getfile(BaseBackend)}\")\n",
        "except ImportError:\n",
        "    print(\"BaseBackend not found in qiskit.providers.models\")\n",
        "\n",
        "print(f\"Installed Qiskit version: {qiskit.__version__}\")"
      ],
      "execution_count": 13,
      "outputs": [
        {
          "output_type": "stream",
          "name": "stdout",
          "text": [
            "BaseBackend not found in qiskit.providers\n",
            "BaseBackend not found in qiskit.providers.models\n",
            "Installed Qiskit version: 1.4.5\n"
          ]
        }
      ]
    },
    {
      "cell_type": "code",
      "metadata": {
        "colab": {
          "base_uri": "https://localhost:8080/"
        },
        "id": "2620e5fc",
        "outputId": "2baeb31b-09c4-40d2-ba54-0aae7fd53b8a"
      },
      "source": [
        "!pip install qiskit==0.39.4 qiskit-machine-learning==0.3.1 qiskit-aer==0.11.2 --quiet"
      ],
      "execution_count": 12,
      "outputs": [
        {
          "output_type": "stream",
          "name": "stdout",
          "text": [
            "\u001b[31mERROR: pip's dependency resolver does not currently take into account all the packages that are installed. This behaviour is the source of the following dependency conflicts.\n",
            "qiskit-algorithms 0.4.0 requires qiskit>=1.0, but you have qiskit 0.39.4 which is incompatible.\u001b[0m\u001b[31m\n",
            "\u001b[0m"
          ]
        }
      ]
    },
    {
      "cell_type": "code",
      "metadata": {
        "colab": {
          "base_uri": "https://localhost:8080/"
        },
        "id": "3e9d57ae",
        "outputId": "fbb719c7-17e6-4fc9-9eca-f5241c5b790f"
      },
      "source": [
        "import qiskit_machine_learning\n",
        "\n",
        "try:\n",
        "    from qiskit_machine_learning.algorithms import QGAN\n",
        "    print(f\"QGAN found in qiskit_machine_learning.algorithms\")\n",
        "except ImportError:\n",
        "    print(\"QGAN not found in qiskit_machine_learning.algorithms\")\n",
        "\n",
        "# Check other potential locations\n",
        "try:\n",
        "    from qiskit_machine_learning.generative_models import QGAN\n",
        "    print(f\"QGAN found in qiskit_machine_learning.generative_models\")\n",
        "except ImportError:\n",
        "    print(\"QGAN not found in qiskit_machine_learning.generative_models\")\n",
        "\n",
        "print(f\"Installed qiskit_machine_learning version: {qiskit_machine_learning.__version__}\")"
      ],
      "execution_count": 11,
      "outputs": [
        {
          "output_type": "stream",
          "name": "stdout",
          "text": [
            "QGAN not found in qiskit_machine_learning.algorithms\n",
            "QGAN not found in qiskit_machine_learning.generative_models\n",
            "Installed qiskit_machine_learning version: 0.8.4\n"
          ]
        }
      ]
    },
    {
      "cell_type": "code",
      "metadata": {
        "colab": {
          "base_uri": "https://localhost:8080/"
        },
        "id": "48baab9f",
        "outputId": "ce170a96-591d-430d-cbe1-b4a656c14234"
      },
      "source": [
        "import qiskit\n",
        "import inspect\n",
        "\n",
        "# Check where algorithm_globals is located\n",
        "try:\n",
        "    from qiskit.utils import algorithm_globals\n",
        "    print(f\"algorithm_globals found in qiskit.utils: {inspect.getfile(algorithm_globals)}\")\n",
        "except ImportError:\n",
        "    print(\"algorithm_globals not found in qiskit.utils\")\n",
        "\n",
        "# Check where BaseBackend is located\n",
        "try:\n",
        "    from qiskit.providers import BaseBackend\n",
        "    print(f\"BaseBackend found in qiskit.providers: {inspect.getfile(BaseBackend)}\")\n",
        "except ImportError:\n",
        "    print(\"BaseBackend not found in qiskit.providers\")\n",
        "\n",
        "# Check other potential locations based on common Qiskit changes\n",
        "try:\n",
        "    from qiskit.utils.algorithm_globals import algorithm_globals\n",
        "    print(f\"algorithm_globals found in qiskit.utils.algorithm_globals: {inspect.getfile(algorithm_globals)}\")\n",
        "except ImportError:\n",
        "    print(\"algorithm_globals not found in qiskit.utils.algorithm_globals\")\n",
        "\n",
        "try:\n",
        "    from qiskit.providers.models import BaseBackend\n",
        "    print(f\"BaseBackend found in qiskit.providers.models: {inspect.getfile(BaseBackend)}\")\n",
        "except ImportError:\n",
        "    print(\"BaseBackend not found in qiskit.providers.models\")\n",
        "\n",
        "try:\n",
        "    from qiskit.quantum_info import random_statevector\n",
        "    print(\"qiskit.quantum_info is importable, suggesting a newer structure\")\n",
        "except ImportError:\n",
        "    print(\"qiskit.quantum_info is not importable, suggesting an older structure\")\n",
        "\n",
        "print(f\"Installed Qiskit version: {qiskit.__version__}\")"
      ],
      "execution_count": 8,
      "outputs": [
        {
          "output_type": "stream",
          "name": "stdout",
          "text": [
            "algorithm_globals not found in qiskit.utils\n",
            "BaseBackend not found in qiskit.providers\n",
            "algorithm_globals not found in qiskit.utils.algorithm_globals\n",
            "BaseBackend not found in qiskit.providers.models\n",
            "qiskit.quantum_info is importable, suggesting a newer structure\n",
            "Installed Qiskit version: 1.4.5\n"
          ]
        }
      ]
    },
    {
      "cell_type": "code",
      "source": [],
      "metadata": {
        "id": "OHvksft8jCG6"
      },
      "execution_count": null,
      "outputs": []
    },
    {
      "cell_type": "code",
      "execution_count": 22,
      "metadata": {
        "colab": {
          "base_uri": "https://localhost:8080/",
          "height": 383
        },
        "outputId": "6d004abc-f2e2-44ec-ea45-4b6d1e1060f0",
        "id": "thC3Su1GjCU8"
      },
      "outputs": [
        {
          "output_type": "error",
          "ename": "ModuleNotFoundError",
          "evalue": "No module named 'qiskit_machine_learning.algorithms.distribution_learners'",
          "traceback": [
            "\u001b[0;31m---------------------------------------------------------------------------\u001b[0m",
            "\u001b[0;31mModuleNotFoundError\u001b[0m                       Traceback (most recent call last)",
            "\u001b[0;32m/tmp/ipython-input-317088478.py\u001b[0m in \u001b[0;36m<cell line: 0>\u001b[0;34m()\u001b[0m\n\u001b[1;32m      5\u001b[0m \u001b[0;32mfrom\u001b[0m \u001b[0mqiskit\u001b[0m \u001b[0;32mimport\u001b[0m \u001b[0mQuantumCircuit\u001b[0m\u001b[0;34m\u001b[0m\u001b[0;34m\u001b[0m\u001b[0m\n\u001b[1;32m      6\u001b[0m \u001b[0;32mfrom\u001b[0m \u001b[0mqiskit\u001b[0m\u001b[0;34m.\u001b[0m\u001b[0mprimitives\u001b[0m \u001b[0;32mimport\u001b[0m \u001b[0mStatevectorSampler\u001b[0m \u001b[0;31m# Use StatevectorSampler as Sampler is deprecated\u001b[0m\u001b[0;34m\u001b[0m\u001b[0;34m\u001b[0m\u001b[0m\n\u001b[0;32m----> 7\u001b[0;31m \u001b[0;32mfrom\u001b[0m \u001b[0mqiskit_machine_learning\u001b[0m\u001b[0;34m.\u001b[0m\u001b[0malgorithms\u001b[0m\u001b[0;34m.\u001b[0m\u001b[0mdistribution_learners\u001b[0m \u001b[0;32mimport\u001b[0m \u001b[0mQGAN\u001b[0m \u001b[0;31m# Correct import path for qiskit-machine-learning 0.3.1\u001b[0m\u001b[0;34m\u001b[0m\u001b[0;34m\u001b[0m\u001b[0m\n\u001b[0m\u001b[1;32m      8\u001b[0m \u001b[0;34m\u001b[0m\u001b[0m\n\u001b[1;32m      9\u001b[0m \u001b[0;31m# --- Step 1: Prepare the Dataset ---\u001b[0m\u001b[0;34m\u001b[0m\u001b[0;34m\u001b[0m\u001b[0m\n",
            "\u001b[0;31mModuleNotFoundError\u001b[0m: No module named 'qiskit_machine_learning.algorithms.distribution_learners'",
            "",
            "\u001b[0;31m---------------------------------------------------------------------------\u001b[0;32m\nNOTE: If your import is failing due to a missing package, you can\nmanually install dependencies using either !pip or !apt.\n\nTo view examples of installing some common dependencies, click the\n\"Open Examples\" button below.\n\u001b[0;31m---------------------------------------------------------------------------\u001b[0m\n"
          ],
          "errorDetails": {
            "actions": [
              {
                "action": "open_url",
                "actionText": "Open Examples",
                "url": "/notebooks/snippets/importing_libraries.ipynb"
              }
            ]
          }
        }
      ],
      "source": [
        "# --- Imports ---\n",
        "import numpy as np\n",
        "import matplotlib.pyplot as plt\n",
        "\n",
        "from qiskit import QuantumCircuit\n",
        "from qiskit.primitives import StatevectorSampler # Use StatevectorSampler as Sampler is deprecated\n",
        "from qiskit_machine_learning.algorithms.distribution_learners import QGAN # Correct import path for qiskit-machine-learning 0.3.1\n",
        "\n",
        "# --- Step 1: Prepare the Dataset ---\n",
        "# We'll create a simple 1D dataset drawn from a normal distribution (real data)\n",
        "real_data = np.random.normal(loc=1.0, scale=0.1, size=(1000, 1))\n",
        "print(\"Real data sample:\", real_data[:5])\n",
        "\n",
        "# --- Step 2: Define the QGAN parameters ---\n",
        "# Quantum GAN learns to generate data that mimics the real_data distribution\n",
        "bounds = [[-1.0, 2.0]]   # data range\n",
        "num_qubits = 1            # single qubit generator\n",
        "num_epochs = 100          # number of training iterations\n",
        "batch_size = 50           # training batch size\n",
        "\n",
        "# --- Step 3: Define the Generator circuit ---\n",
        "qc = QuantumCircuit(num_qubits)\n",
        "qc.ry(0.1, 0)\n",
        "qc.rx(0.1, 0)\n",
        "\n",
        "# --- Step 4: Initialize and Train the QGAN ---\n",
        "np.random.seed(42) # Use np.random.seed for random seed\n",
        "sampler = StatevectorSampler() # Use StatevectorSampler\n",
        "\n",
        "qgan = QGAN(\n",
        "    real_data=real_data,\n",
        "    bounds=bounds,\n",
        "    num_qubits=num_qubits,\n",
        "    batch_size=batch_size,\n",
        "    num_epochs=num_epochs,\n",
        "    sampler=sampler,\n",
        "    generator_circuit=qc,\n",
        "    discriminator=None,     # Default classical discriminator\n",
        "    snapshot_dir=None        # Disable snapshot saving\n",
        ")\n",
        "\n",
        "print(\"Training Quantum GAN...\")\n",
        "qgan.run()\n",
        "print(\"Training complete!\")\n",
        "\n",
        "# --- Step 5: Visualize the Results ---\n",
        "fig, ax = plt.subplots(figsize=(8, 5))\n",
        "ax.hist(real_data, bins=30, density=True, alpha=0.6, label=\"Real Data\")\n",
        "ax.hist(qgan.generator.get_output(1000), bins=30, density=True, alpha=0.6, label=\"QGAN Generated Data\")\n",
        "ax.set_title(\"Quantum GAN: Real vs Generated Data Distribution\")\n",
        "ax.legend()\n",
        "plt.show()"
      ]
    },
    {
      "cell_type": "code",
      "metadata": {
        "colab": {
          "base_uri": "https://localhost:8080/"
        },
        "id": "1e9cd738",
        "outputId": "08dbd02f-a807-4bf9-802f-dc271aa973df"
      },
      "source": [
        "import qiskit_machine_learning.algorithms as qml_algorithms\n",
        "import pkgutil\n",
        "\n",
        "print(\"Contents of qiskit_machine_learning.algorithms:\")\n",
        "for importer, modname, ispkg in pkgutil.iter_modules(qml_algorithms.__path__):\n",
        "    print(f\"- {modname} (package: {ispkg})\")\n",
        "\n",
        "try:\n",
        "    import qiskit_machine_learning.algorithms.distribution_learners as distribution_learners\n",
        "    print(\"\\nqiskit_machine_learning.algorithms.distribution_learners is importable.\")\n",
        "    print(\"Contents of qiskit_machine_learning.algorithms.distribution_learners:\")\n",
        "    for importer, modname, ispkg in pkgutil.iter_modules(distribution_learners.__path__):\n",
        "        print(f\"- {modname} (package: {ispkg})\")\n",
        "\n",
        "except ImportError:\n",
        "    print(\"\\nqiskit_machine_learning.algorithms.distribution_learners is NOT importable.\")"
      ],
      "execution_count": 23,
      "outputs": [
        {
          "output_type": "stream",
          "name": "stdout",
          "text": [
            "Contents of qiskit_machine_learning.algorithms:\n",
            "- classifiers (package: True)\n",
            "- inference (package: True)\n",
            "- objective_functions (package: False)\n",
            "- regressors (package: True)\n",
            "- serializable_model (package: False)\n",
            "- trainable_model (package: False)\n",
            "\n",
            "qiskit_machine_learning.algorithms.distribution_learners is NOT importable.\n"
          ]
        }
      ]
    }
  ],
  "metadata": {
    "colab": {
      "provenance": []
    },
    "kernelspec": {
      "display_name": "Python 3",
      "name": "python3"
    },
    "language_info": {
      "name": "python"
    }
  },
  "nbformat": 4,
  "nbformat_minor": 0
}