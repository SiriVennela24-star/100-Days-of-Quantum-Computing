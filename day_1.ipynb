{
  "nbformat": 4,
  "nbformat_minor": 0,
  "metadata": {
    "colab": {
      "provenance": []
    },
    "kernelspec": {
      "name": "python3",
      "display_name": "Python 3"
    },
    "language_info": {
      "name": "python"
    }
  },
  "cells": [
    {
      "cell_type": "code",
      "execution_count": 12,
      "metadata": {
        "colab": {
          "base_uri": "https://localhost:8080/"
        },
        "id": "eeHsjcnn4zTf",
        "outputId": "b4c1ac25-b73f-4768-c2e9-30c2349b8c92"
      },
      "outputs": [
        {
          "output_type": "stream",
          "name": "stdout",
          "text": [
            "Requirement already satisfied: qiskit in /usr/local/lib/python3.12/dist-packages (2.2.1)\n",
            "Requirement already satisfied: rustworkx>=0.15.0 in /usr/local/lib/python3.12/dist-packages (from qiskit) (0.17.1)\n",
            "Requirement already satisfied: numpy<3,>=1.17 in /usr/local/lib/python3.12/dist-packages (from qiskit) (2.0.2)\n",
            "Requirement already satisfied: scipy>=1.5 in /usr/local/lib/python3.12/dist-packages (from qiskit) (1.16.2)\n",
            "Requirement already satisfied: dill>=0.3 in /usr/local/lib/python3.12/dist-packages (from qiskit) (0.3.8)\n",
            "Requirement already satisfied: stevedore>=3.0.0 in /usr/local/lib/python3.12/dist-packages (from qiskit) (5.5.0)\n",
            "Requirement already satisfied: typing-extensions in /usr/local/lib/python3.12/dist-packages (from qiskit) (4.15.0)\n"
          ]
        }
      ],
      "source": [
        "!pip install qiskit\n",
        "!pip install -q qiskit qiskit-aer pylatexenc --upgrade"
      ]
    },
    {
      "cell_type": "code",
      "source": [
        "# ============================================\n",
        "# 🚀 Qiskit Superposition Visualization (Google Colab)\n",
        "# ============================================\n",
        "\n",
        "# Step 2: Import libraries\n",
        "from qiskit import QuantumCircuit\n",
        "from qiskit_aer import Aer\n",
        "from qiskit.visualization import plot_bloch_multivector, plot_histogram\n",
        "from qiskit.quantum_info import Statevector\n",
        "from IPython.display import display\n",
        "\n",
        "# Step 3: Create a 1-qubit quantum circuit\n",
        "qc = QuantumCircuit(1, 1)   # 1 qubit, 1 classical bit\n",
        "qc.h(0)                     # Apply Hadamard gate (create superposition)\n",
        "print(qc.draw('text'))     # Show circuit diagram using text output\n",
        "\n",
        "# Step 4: Visualize the state on the Bloch sphere\n",
        "sim = Aer.get_backend('statevector_simulator')\n",
        "result = sim.run(qc).result()\n",
        "state = result.get_statevector()\n",
        "plot_bloch_multivector(state)  # Bloch vector moves to equator → superposition\n",
        "\n",
        "# Step 5: Measure repeatedly to observe randomness\n",
        "qc.measure(0, 0)             # Add measurement\n",
        "print(qc.draw('text')) # Show circuit diagram using text output\n",
        "\n",
        "# Run 1024 shots to get measurement statistics\n",
        "sim2 = Aer.get_backend('qasm_simulator')\n",
        "result2 = sim2.run(qc, shots=1024).result()\n",
        "counts = result2.get_counts()\n",
        "\n",
        "# Step 6: Display results\n",
        "plot_histogram(counts)\n",
        "print(\"Measurement results:\", counts)"
      ],
      "metadata": {
        "colab": {
          "base_uri": "https://localhost:8080/"
        },
        "id": "EMrBSJls5C3U",
        "outputId": "6218faaa-8955-4907-fc80-be0eef8a6ad7"
      },
      "execution_count": 14,
      "outputs": [
        {
          "output_type": "stream",
          "name": "stdout",
          "text": [
            "     ┌───┐\n",
            "  q: ┤ H ├\n",
            "     └───┘\n",
            "c: 1/═════\n",
            "          \n",
            "     ┌───┐┌─┐\n",
            "  q: ┤ H ├┤M├\n",
            "     └───┘└╥┘\n",
            "c: 1/══════╩═\n",
            "           0 \n",
            "Measurement results: {'0': 548, '1': 476}\n"
          ]
        }
      ]
    },
    {
      "cell_type": "code",
      "metadata": {
        "id": "63ee69c0"
      },
      "source": [
        "!pip install -q qiskit qiskit-aer pylatexenc --upgrade"
      ],
      "execution_count": null,
      "outputs": []
    }
  ]
}