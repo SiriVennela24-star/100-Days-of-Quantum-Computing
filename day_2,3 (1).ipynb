{
  "nbformat": 4,
  "nbformat_minor": 0,
  "metadata": {
    "colab": {
      "provenance": []
    },
    "kernelspec": {
      "name": "python3",
      "display_name": "Python 3"
    },
    "language_info": {
      "name": "python"
    }
  },
  "cells": [
    {
      "cell_type": "code",
      "execution_count": null,
      "metadata": {
        "colab": {
          "base_uri": "https://localhost:8080/"
        },
        "id": "eeHsjcnn4zTf",
        "outputId": "b4c1ac25-b73f-4768-c2e9-30c2349b8c92"
      },
      "outputs": [
        {
          "output_type": "stream",
          "name": "stdout",
          "text": [
            "Requirement already satisfied: qiskit in /usr/local/lib/python3.12/dist-packages (2.2.1)\n",
            "Requirement already satisfied: rustworkx>=0.15.0 in /usr/local/lib/python3.12/dist-packages (from qiskit) (0.17.1)\n",
            "Requirement already satisfied: numpy<3,>=1.17 in /usr/local/lib/python3.12/dist-packages (from qiskit) (2.0.2)\n",
            "Requirement already satisfied: scipy>=1.5 in /usr/local/lib/python3.12/dist-packages (from qiskit) (1.16.2)\n",
            "Requirement already satisfied: dill>=0.3 in /usr/local/lib/python3.12/dist-packages (from qiskit) (0.3.8)\n",
            "Requirement already satisfied: stevedore>=3.0.0 in /usr/local/lib/python3.12/dist-packages (from qiskit) (5.5.0)\n",
            "Requirement already satisfied: typing-extensions in /usr/local/lib/python3.12/dist-packages (from qiskit) (4.15.0)\n"
          ]
        }
      ],
      "source": [
        "!pip install qiskit\n",
        "!pip install -q qiskit qiskit-aer pylatexenc --upgrade"
      ]
    },
    {
      "cell_type": "code",
      "source": [],
      "metadata": {
        "id": "L8rDtkmdLB-Z"
      },
      "execution_count": null,
      "outputs": []
    },
    {
      "cell_type": "code",
      "source": [
        "# ============================================\n",
        "# 🚀 Qiskit Superposition Visualization (Google Colab)\n",
        "# ============================================\n",
        "\n",
        "# Step 2: Import libraries\n",
        "from qiskit import QuantumCircuit\n",
        "from qiskit_aer import Aer\n",
        "from qiskit.visualization import plot_bloch_multivector, plot_histogram\n",
        "from qiskit.quantum_info import Statevector\n",
        "from IPython.display import display\n",
        "\n",
        "# Step 3: Create a 1-qubit quantum circuit\n",
        "qc = QuantumCircuit(1, 1)   # 1 qubit, 1 classical bit\n",
        "qc.h(0)                     # Apply Hadamard gate (create superposition)\n",
        "print(qc.draw('text'))     # Show circuit diagram using text output\n",
        "\n",
        "# Step 4: Visualize the state on the Bloch sphere\n",
        "sim = Aer.get_backend('statevector_simulator')\n",
        "result = sim.run(qc).result()\n",
        "state = result.get_statevector()\n",
        "plot_bloch_multivector(state)  # Bloch vector moves to equator → superposition\n",
        "\n",
        "# Step 5: Measure repeatedly to observe randomness\n",
        "qc.measure(0, 0)             # Add measurement\n",
        "print(qc.draw('text')) # Show circuit diagram using text output\n",
        "\n",
        "# Run 1024 shots to get measurement statistics\n",
        "sim2 = Aer.get_backend('qasm_simulator')\n",
        "result2 = sim2.run(qc, shots=1024).result()\n",
        "counts = result2.get_counts()\n",
        "\n",
        "# Step 6: Display results\n",
        "plot_histogram(counts)\n",
        "print(\"Measurement results:\", counts)"
      ],
      "metadata": {
        "colab": {
          "base_uri": "https://localhost:8080/"
        },
        "id": "EMrBSJls5C3U",
        "outputId": "6218faaa-8955-4907-fc80-be0eef8a6ad7"
      },
      "execution_count": null,
      "outputs": [
        {
          "output_type": "stream",
          "name": "stdout",
          "text": [
            "     ┌───┐\n",
            "  q: ┤ H ├\n",
            "     └───┘\n",
            "c: 1/═════\n",
            "          \n",
            "     ┌───┐┌─┐\n",
            "  q: ┤ H ├┤M├\n",
            "     └───┘└╥┘\n",
            "c: 1/══════╩═\n",
            "           0 \n",
            "Measurement results: {'0': 548, '1': 476}\n"
          ]
        }
      ]
    },
    {
      "cell_type": "code",
      "metadata": {
        "id": "63ee69c0"
      },
      "source": [
        "!pip install -q qiskit qiskit-aer pylatexenc --upgrade"
      ],
      "execution_count": null,
      "outputs": []
    },
    {
      "cell_type": "code",
      "source": [
        "from qiskit import QuantumCircuit\n",
        "from qiskit_aer import Aer\n",
        "from qiskit.visualization import plot_histogram\n",
        "\n",
        "# Create a 2-qubit circuit\n",
        "qc = QuantumCircuit(2)\n",
        "\n",
        "# Apply Hadamard gate to qubit 0 (superposition)\n",
        "qc.h(0)\n",
        "\n",
        "# Apply CNOT gate (entanglement)\n",
        "qc.cx(0, 1)\n",
        "\n",
        "# Measure both qubits\n",
        "qc.measure_all()\n",
        "\n",
        "# Execute\n",
        "backend = Aer.get_backend('qasm_simulator')\n",
        "result = backend.run(qc, shots=1024).result()\n",
        "counts = result.get_counts()\n",
        "\n",
        "# Visualize\n",
        "# qc.draw('mpl') # This line is commented out because it requires matplotlib which might not be installed or configured\n",
        "plot_histogram(counts)"
      ],
      "metadata": {
        "colab": {
          "base_uri": "https://localhost:8080/",
          "height": 487
        },
        "id": "jnU3H3-HLERl",
        "outputId": "42ecb95c-60ce-453e-b2a9-4dd65ccaa4f9"
      },
      "execution_count": 3,
      "outputs": [
        {
          "output_type": "execute_result",
          "data": {
            "text/plain": [
              "<Figure size 640x480 with 1 Axes>"
            ],
            "image/png": "[encoded data removed]"
          },
          "metadata": {},
          "execution_count": 3
        }
      ]
    },
    {
      "cell_type": "code",
      "metadata": {
        "colab": {
          "base_uri": "https://localhost:8080/"
        },
        "id": "93f5fd74",
        "outputId": "ee615ba4-83f4-4cf3-e1e7-5602c957c067"
      },
      "source": [
        "!pip install -q qiskit qiskit-aer pylatexenc --upgrade"
      ],
      "execution_count": 2,
      "outputs": [
        {
          "output_type": "stream",
          "name": "stdout",
          "text": [
            "\u001b[?25l     \u001b[90m━━━━━━━━━━━━━━━━━━━━━━━━━━━━━━━━━━━━━━━━\u001b[0m \u001b[32m0.0/162.6 kB\u001b[0m \u001b[31m?\u001b[0m eta \u001b[36m-:--:--\u001b[0m\r\u001b[2K     \u001b[91m━━━━━━━━━━━━━━━━━━━━━━━━━━━━━━━━━━━━\u001b[0m\u001b[91m╸\u001b[0m\u001b[90m━━\u001b[0m \u001b[32m153.6/162.6 kB\u001b[0m \u001b[31m5.5 MB/s\u001b[0m eta \u001b[36m0:00:01\u001b[0m\r\u001b[2K     \u001b[90m━━━━━━━━━━━━━━━━━━━━━━━━━━━━━━━━━━━━━━━\u001b[0m \u001b[32m162.6/162.6 kB\u001b[0m \u001b[31m3.6 MB/s\u001b[0m eta \u001b[36m0:00:00\u001b[0m\n",
            "\u001b[?25h  Preparing metadata (setup.py) ... \u001b[?25l\u001b[?25hdone\n",
            "\u001b[2K   \u001b[90m━━━━━━━━━━━━━━━━━━━━━━━━━━━━━━━━━━━━━━━━\u001b[0m \u001b[32m8.0/8.0 MB\u001b[0m \u001b[31m73.0 MB/s\u001b[0m eta \u001b[36m0:00:00\u001b[0m\n",
            "\u001b[2K   \u001b[90m━━━━━━━━━━━━━━━━━━━━━━━━━━━━━━━━━━━━━━━━\u001b[0m \u001b[32m12.4/12.4 MB\u001b[0m \u001b[31m100.3 MB/s\u001b[0m eta \u001b[36m0:00:00\u001b[0m\n",
            "\u001b[2K   \u001b[90m━━━━━━━━━━━━━━━━━━━━━━━━━━━━━━━━━━━━━━━━\u001b[0m \u001b[32m2.2/2.2 MB\u001b[0m \u001b[31m62.3 MB/s\u001b[0m eta \u001b[36m0:00:00\u001b[0m\n",
            "\u001b[2K   \u001b[90m━━━━━━━━━━━━━━━━━━━━━━━━━━━━━━━━━━━━━━━━\u001b[0m \u001b[32m49.5/49.5 kB\u001b[0m \u001b[31m2.8 MB/s\u001b[0m eta \u001b[36m0:00:00\u001b[0m\n",
            "\u001b[?25h  Building wheel for pylatexenc (setup.py) ... \u001b[?25l\u001b[?25hdone\n"
          ]
        }
      ]
    },
    {
      "cell_type": "code",
      "source": [
        "from qiskit import QuantumCircuit\n",
        "from qiskit_aer import Aer\n",
        "import random\n",
        "\n",
        "# Quantum dice: use 3 qubits → 2³ = 8 outcomes (we’ll map 1–6)\n",
        "qc = QuantumCircuit(3)\n",
        "qc.h([0,1,2])    # Put all in superposition\n",
        "qc.measure_all()\n",
        "\n",
        "backend = Aer.get_backend('qasm_simulator')\n",
        "result = backend.run(qc, shots=1).result()\n",
        "counts = result.get_counts()\n",
        "\n",
        "# Convert binary result to dice number\n",
        "binary_out = list(counts.keys())[0]\n",
        "dice_num = int(binary_out, 2) % 6 + 1\n",
        "print(f\"You rolled a {dice_num}!\")"
      ],
      "metadata": {
        "colab": {
          "base_uri": "https://localhost:8080/"
        },
        "id": "bAkj7B4vMaT3",
        "outputId": "a4b2f942-051f-4e8e-b925-b8276f4f68c0"
      },
      "execution_count": 7,
      "outputs": [
        {
          "output_type": "stream",
          "name": "stdout",
          "text": [
            "You rolled a 1!\n"
          ]
        }
      ]
    },
    {
      "cell_type": "code",
      "source": [
        "from qiskit.visualization import plot_histogram\n",
        "from qiskit_aer import Aer # Import Aer backend\n",
        "from qiskit import QuantumCircuit # Import QuantumCircuit\n",
        "\n",
        "# Assuming 'qc' and 'backend' are defined in a previous cell\n",
        "# Create a simple circuit for demonstration if 'qc' is not defined\n",
        "try:\n",
        "    qc\n",
        "except NameError:\n",
        "    qc = QuantumCircuit(1)\n",
        "    qc.h(0)\n",
        "    qc.measure_all()\n",
        "\n",
        "# Assuming 'backend' is defined in a previous cell\n",
        "try:\n",
        "    backend\n",
        "except NameError:\n",
        "    backend = Aer.get_backend('qasm_simulator')\n",
        "\n",
        "\n",
        "shots = 1000\n",
        "result = backend.run(qc, shots=shots).result() # Use backend.run() instead of execute()\n",
        "counts = result.get_counts()\n",
        "plot_histogram(counts)"
      ],
      "metadata": {
        "colab": {
          "base_uri": "https://localhost:8080/",
          "height": 487
        },
        "id": "FUsk5KTUM-co",
        "outputId": "277b4b1f-56ba-48b9-8f61-ba0658b60848"
      },
      "execution_count": 9,
      "outputs": [
        {
          "output_type": "execute_result",
          "data": {
            "text/plain": [
              "<Figure size 640x480 with 1 Axes>"
            ],
            "image/png": "[encoded data removed]"
          },
          "metadata": {},
          "execution_count": 9
        }
      ]
    }
  ]
}