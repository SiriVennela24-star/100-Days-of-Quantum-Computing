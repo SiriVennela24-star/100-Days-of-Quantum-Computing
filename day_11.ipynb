{
  "nbformat": 4,
  "nbformat_minor": 0,
  "metadata": {
    "colab": {
      "provenance": []
    },
    "kernelspec": {
      "name": "python3",
      "display_name": "Python 3"
    },
    "language_info": {
      "name": "python"
    }
  },
  "cells": [
    {
      "cell_type": "code",
      "execution_count": 1,
      "metadata": {
        "colab": {
          "base_uri": "https://localhost:8080/"
        },
        "id": "4Oagr_cx4uv_",
        "outputId": "17cb03f1-b8e6-48e8-e77e-b2feba9f5df2"
      },
      "outputs": [
        {
          "output_type": "stream",
          "name": "stdout",
          "text": [
            "Requirement already satisfied: qiskit in /usr/local/lib/python3.12/dist-packages (2.2.1)\n",
            "Requirement already satisfied: rustworkx>=0.15.0 in /usr/local/lib/python3.12/dist-packages (from qiskit) (0.17.1)\n",
            "Requirement already satisfied: numpy<3,>=1.17 in /usr/local/lib/python3.12/dist-packages (from qiskit) (2.0.2)\n",
            "Requirement already satisfied: scipy>=1.5 in /usr/local/lib/python3.12/dist-packages (from qiskit) (1.16.2)\n",
            "Requirement already satisfied: dill>=0.3 in /usr/local/lib/python3.12/dist-packages (from qiskit) (0.3.8)\n",
            "Requirement already satisfied: stevedore>=3.0.0 in /usr/local/lib/python3.12/dist-packages (from qiskit) (5.5.0)\n",
            "Requirement already satisfied: typing-extensions in /usr/local/lib/python3.12/dist-packages (from qiskit) (4.15.0)\n"
          ]
        }
      ],
      "source": [
        "!pip install qiskit\n",
        "!pip install -q qiskit qiskit-aer pylatexenc --upgrade"
      ]
    },
    {
      "cell_type": "code",
      "source": [
        "from qiskit import QuantumCircuit\n",
        "from qiskit.visualization import plot_histogram\n",
        "from qiskit_aer import Aer # Remove execute from import\n",
        "import matplotlib.pyplot as plt\n",
        "\n",
        "# Step 1: Create a 2-qubit Grover Oracle for target |11>\n",
        "qc = QuantumCircuit(2)\n",
        "qc.cz(0, 1)           # Apply controlled-Z gate (oracle for |11>)\n",
        "qc.measure_all()       # Measure both qubits\n",
        "\n",
        "# Step 2: Execute the circuit on the QASM simulator\n",
        "backend = Aer.get_backend('qasm_simulator')\n",
        "job = execute(qc, backend, shots=1024)\n",
        "result = job.result()\n",
        "\n",
        "# Step 3: Get the counts (measurement results)\n",
        "counts = result.get_counts(qc)\n",
        "\n",
        "# Step 4: Print algorithm output (textual form)\n",
        "print(\"🔹 Quantum Algorithm Output (Measurement Counts):\")\n",
        "for state, count in counts.items():\n",
        "    print(f\"State {state} occurred {count} times\")\n",
        "\n",
        "# Step 5: Plot the histogram (graphical form)\n",
        "plot_histogram(counts)\n",
        "plt.title(\"Grover Oracle Measurement Results\")\n",
        "plt.show()"
      ],
      "metadata": {
        "colab": {
          "base_uri": "https://localhost:8080/",
          "height": 211
        },
        "id": "1RXKQrea4_zJ",
        "outputId": "20149394-f5df-491e-ce16-1fed8abe7d6b"
      },
      "execution_count": 2,
      "outputs": [
        {
          "output_type": "error",
          "ename": "NameError",
          "evalue": "name 'execute' is not defined",
          "traceback": [
            "\u001b[0;31m---------------------------------------------------------------------------\u001b[0m",
            "\u001b[0;31mNameError\u001b[0m                                 Traceback (most recent call last)",
            "\u001b[0;32m/tmp/ipython-input-4106904216.py\u001b[0m in \u001b[0;36m<cell line: 0>\u001b[0;34m()\u001b[0m\n\u001b[1;32m     11\u001b[0m \u001b[0;31m# Step 2: Execute the circuit on the QASM simulator\u001b[0m\u001b[0;34m\u001b[0m\u001b[0;34m\u001b[0m\u001b[0m\n\u001b[1;32m     12\u001b[0m \u001b[0mbackend\u001b[0m \u001b[0;34m=\u001b[0m \u001b[0mAer\u001b[0m\u001b[0;34m.\u001b[0m\u001b[0mget_backend\u001b[0m\u001b[0;34m(\u001b[0m\u001b[0;34m'qasm_simulator'\u001b[0m\u001b[0;34m)\u001b[0m\u001b[0;34m\u001b[0m\u001b[0;34m\u001b[0m\u001b[0m\n\u001b[0;32m---> 13\u001b[0;31m \u001b[0mjob\u001b[0m \u001b[0;34m=\u001b[0m \u001b[0mexecute\u001b[0m\u001b[0;34m(\u001b[0m\u001b[0mqc\u001b[0m\u001b[0;34m,\u001b[0m \u001b[0mbackend\u001b[0m\u001b[0;34m,\u001b[0m \u001b[0mshots\u001b[0m\u001b[0;34m=\u001b[0m\u001b[0;36m1024\u001b[0m\u001b[0;34m)\u001b[0m\u001b[0;34m\u001b[0m\u001b[0;34m\u001b[0m\u001b[0m\n\u001b[0m\u001b[1;32m     14\u001b[0m \u001b[0mresult\u001b[0m \u001b[0;34m=\u001b[0m \u001b[0mjob\u001b[0m\u001b[0;34m.\u001b[0m\u001b[0mresult\u001b[0m\u001b[0;34m(\u001b[0m\u001b[0;34m)\u001b[0m\u001b[0;34m\u001b[0m\u001b[0;34m\u001b[0m\u001b[0m\n\u001b[1;32m     15\u001b[0m \u001b[0;34m\u001b[0m\u001b[0m\n",
            "\u001b[0;31mNameError\u001b[0m: name 'execute' is not defined"
          ]
        }
      ]
    },
    {
      "cell_type": "code",
      "source": [
        "%matplotlib inline\n"
      ],
      "metadata": {
        "id": "68U7nshT6SuH"
      },
      "execution_count": 5,
      "outputs": []
    },
    {
      "cell_type": "code",
      "source": [],
      "metadata": {
        "id": "y8RzwDkB7CX6"
      },
      "execution_count": null,
      "outputs": []
    },
    {
      "cell_type": "code",
      "source": [
        "from qiskit import QuantumCircuit\n",
        "from qiskit.visualization import plot_histogram\n",
        "from qiskit_aer import Aer\n",
        "import matplotlib.pyplot as plt\n",
        "\n",
        "# Step 1: Create a 2-qubit circuit\n",
        "qc = QuantumCircuit(2)\n",
        "qc.h([0, 1])          # Optional: apply Hadamard gates to create superposition\n",
        "qc.cz(0, 1)           # Controlled-Z gate (oracle for |11>)\n",
        "qc.measure_all()      # Measure both qubits\n",
        "\n",
        "# Step 2: Choose the backend and run the circuit\n",
        "backend = Aer.get_backend('qasm_simulator')\n",
        "job = backend.run(qc, shots=1024)\n",
        "result = job.result()\n",
        "\n",
        "# Step 3: Get measurement counts\n",
        "counts = result.get_counts(qc)\n",
        "\n",
        "# Step 4: Debugging info\n",
        "print(\"🔹 Quantum Algorithm Output (Measurement Counts):\")\n",
        "print(counts)\n",
        "if not counts:\n",
        "    print(\"⚠️ No counts found. Check that the Aer simulator is properly installed and accessible.\")\n",
        "else:\n",
        "    for state, count in counts.items():\n",
        "        print(f\"State {state} occurred {count} times\")\n"
      ],
      "metadata": {
        "colab": {
          "base_uri": "https://localhost:8080/"
        },
        "outputId": "b6bcc762-27cd-4db6-f2ff-8b8fb96622cd",
        "id": "jD2h_5PN6TE-"
      },
      "execution_count": 13,
      "outputs": [
        {
          "output_type": "stream",
          "name": "stdout",
          "text": [
            "🔹 Quantum Algorithm Output (Measurement Counts):\n",
            "{'01': 247, '11': 275, '00': 248, '10': 254}\n",
            "State 01 occurred 247 times\n",
            "State 11 occurred 275 times\n",
            "State 00 occurred 248 times\n",
            "State 10 occurred 254 times\n"
          ]
        }
      ]
    }
  ]
}